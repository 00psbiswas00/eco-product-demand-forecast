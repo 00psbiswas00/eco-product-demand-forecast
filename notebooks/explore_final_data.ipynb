{
 "cells": [
  {
   "cell_type": "code",
   "execution_count": 32,
   "id": "bbaa2e3f",
   "metadata": {},
   "outputs": [],
   "source": [
    "import pandas as pd\n",
    "import sqlite3"
   ]
  },
  {
   "cell_type": "code",
   "execution_count": 33,
   "id": "b6dfb5b6",
   "metadata": {},
   "outputs": [],
   "source": [
    "con=sqlite3.connect('../data/final/products_with_trends.db')"
   ]
  },
  {
   "cell_type": "code",
   "execution_count": 34,
   "id": "21ced793",
   "metadata": {},
   "outputs": [],
   "source": [
    "df= pd.read_sql('SELECT * FROM products_with_trends', con)"
   ]
  },
  {
   "cell_type": "code",
   "execution_count": 35,
   "id": "542df8ee",
   "metadata": {},
   "outputs": [
    {
     "data": {
      "text/html": [
       "<div>\n",
       "<style scoped>\n",
       "    .dataframe tbody tr th:only-of-type {\n",
       "        vertical-align: middle;\n",
       "    }\n",
       "\n",
       "    .dataframe tbody tr th {\n",
       "        vertical-align: top;\n",
       "    }\n",
       "\n",
       "    .dataframe thead th {\n",
       "        text-align: right;\n",
       "    }\n",
       "</style>\n",
       "<table border=\"1\" class=\"dataframe\">\n",
       "  <thead>\n",
       "    <tr style=\"text-align: right;\">\n",
       "      <th></th>\n",
       "      <th>product_name</th>\n",
       "      <th>brand</th>\n",
       "      <th>categories</th>\n",
       "      <th>labels</th>\n",
       "      <th>packaging</th>\n",
       "      <th>nutriscore_grade</th>\n",
       "      <th>ecoscore_grade</th>\n",
       "      <th>url</th>\n",
       "      <th>sustainability_tags</th>\n",
       "      <th>has_sustainability_tag</th>\n",
       "      <th>date</th>\n",
       "      <th>keyword</th>\n",
       "      <th>value</th>\n",
       "    </tr>\n",
       "  </thead>\n",
       "  <tbody>\n",
       "    <tr>\n",
       "      <th>0</th>\n",
       "      <td>Douche crème surgras â l'huile de karité</td>\n",
       "      <td>Léa nature</td>\n",
       "      <td>hygiène, douches et bains, gels douche</td>\n",
       "      <td>bio, testé dermatologiquement, sans sulfates, ...</td>\n",
       "      <td>plastique, bouteille</td>\n",
       "      <td>unknown</td>\n",
       "      <td>unknown</td>\n",
       "      <td>https://world.openbeautyfacts.org/product/3517...</td>\n",
       "      <td>organic</td>\n",
       "      <td>1</td>\n",
       "      <td>2024-08-11</td>\n",
       "      <td>organic</td>\n",
       "      <td>69</td>\n",
       "    </tr>\n",
       "    <tr>\n",
       "      <th>1</th>\n",
       "      <td>Douche crème surgras â l'huile de karité</td>\n",
       "      <td>Léa nature</td>\n",
       "      <td>hygiène, douches et bains, gels douche</td>\n",
       "      <td>bio, testé dermatologiquement, sans sulfates, ...</td>\n",
       "      <td>plastique, bouteille</td>\n",
       "      <td>unknown</td>\n",
       "      <td>unknown</td>\n",
       "      <td>https://world.openbeautyfacts.org/product/3517...</td>\n",
       "      <td>organic</td>\n",
       "      <td>1</td>\n",
       "      <td>2024-08-18</td>\n",
       "      <td>organic</td>\n",
       "      <td>72</td>\n",
       "    </tr>\n",
       "    <tr>\n",
       "      <th>2</th>\n",
       "      <td>Douche crème surgras â l'huile de karité</td>\n",
       "      <td>Léa nature</td>\n",
       "      <td>hygiène, douches et bains, gels douche</td>\n",
       "      <td>bio, testé dermatologiquement, sans sulfates, ...</td>\n",
       "      <td>plastique, bouteille</td>\n",
       "      <td>unknown</td>\n",
       "      <td>unknown</td>\n",
       "      <td>https://world.openbeautyfacts.org/product/3517...</td>\n",
       "      <td>organic</td>\n",
       "      <td>1</td>\n",
       "      <td>2024-08-25</td>\n",
       "      <td>organic</td>\n",
       "      <td>73</td>\n",
       "    </tr>\n",
       "    <tr>\n",
       "      <th>3</th>\n",
       "      <td>Douche crème surgras â l'huile de karité</td>\n",
       "      <td>Léa nature</td>\n",
       "      <td>hygiène, douches et bains, gels douche</td>\n",
       "      <td>bio, testé dermatologiquement, sans sulfates, ...</td>\n",
       "      <td>plastique, bouteille</td>\n",
       "      <td>unknown</td>\n",
       "      <td>unknown</td>\n",
       "      <td>https://world.openbeautyfacts.org/product/3517...</td>\n",
       "      <td>organic</td>\n",
       "      <td>1</td>\n",
       "      <td>2024-09-01</td>\n",
       "      <td>organic</td>\n",
       "      <td>75</td>\n",
       "    </tr>\n",
       "    <tr>\n",
       "      <th>4</th>\n",
       "      <td>Douche crème surgras â l'huile de karité</td>\n",
       "      <td>Léa nature</td>\n",
       "      <td>hygiène, douches et bains, gels douche</td>\n",
       "      <td>bio, testé dermatologiquement, sans sulfates, ...</td>\n",
       "      <td>plastique, bouteille</td>\n",
       "      <td>unknown</td>\n",
       "      <td>unknown</td>\n",
       "      <td>https://world.openbeautyfacts.org/product/3517...</td>\n",
       "      <td>organic</td>\n",
       "      <td>1</td>\n",
       "      <td>2024-09-08</td>\n",
       "      <td>organic</td>\n",
       "      <td>74</td>\n",
       "    </tr>\n",
       "  </tbody>\n",
       "</table>\n",
       "</div>"
      ],
      "text/plain": [
       "                               product_name       brand  \\\n",
       "0  Douche crème surgras â l'huile de karité  Léa nature   \n",
       "1  Douche crème surgras â l'huile de karité  Léa nature   \n",
       "2  Douche crème surgras â l'huile de karité  Léa nature   \n",
       "3  Douche crème surgras â l'huile de karité  Léa nature   \n",
       "4  Douche crème surgras â l'huile de karité  Léa nature   \n",
       "\n",
       "                               categories  \\\n",
       "0  hygiène, douches et bains, gels douche   \n",
       "1  hygiène, douches et bains, gels douche   \n",
       "2  hygiène, douches et bains, gels douche   \n",
       "3  hygiène, douches et bains, gels douche   \n",
       "4  hygiène, douches et bains, gels douche   \n",
       "\n",
       "                                              labels             packaging  \\\n",
       "0  bio, testé dermatologiquement, sans sulfates, ...  plastique, bouteille   \n",
       "1  bio, testé dermatologiquement, sans sulfates, ...  plastique, bouteille   \n",
       "2  bio, testé dermatologiquement, sans sulfates, ...  plastique, bouteille   \n",
       "3  bio, testé dermatologiquement, sans sulfates, ...  plastique, bouteille   \n",
       "4  bio, testé dermatologiquement, sans sulfates, ...  plastique, bouteille   \n",
       "\n",
       "  nutriscore_grade ecoscore_grade  \\\n",
       "0          unknown        unknown   \n",
       "1          unknown        unknown   \n",
       "2          unknown        unknown   \n",
       "3          unknown        unknown   \n",
       "4          unknown        unknown   \n",
       "\n",
       "                                                 url sustainability_tags  \\\n",
       "0  https://world.openbeautyfacts.org/product/3517...             organic   \n",
       "1  https://world.openbeautyfacts.org/product/3517...             organic   \n",
       "2  https://world.openbeautyfacts.org/product/3517...             organic   \n",
       "3  https://world.openbeautyfacts.org/product/3517...             organic   \n",
       "4  https://world.openbeautyfacts.org/product/3517...             organic   \n",
       "\n",
       "   has_sustainability_tag        date  keyword  value  \n",
       "0                       1  2024-08-11  organic     69  \n",
       "1                       1  2024-08-18  organic     72  \n",
       "2                       1  2024-08-25  organic     73  \n",
       "3                       1  2024-09-01  organic     75  \n",
       "4                       1  2024-09-08  organic     74  "
      ]
     },
     "execution_count": 35,
     "metadata": {},
     "output_type": "execute_result"
    }
   ],
   "source": [
    "df.head()"
   ]
  },
  {
   "cell_type": "code",
   "execution_count": 36,
   "id": "5f7df39d",
   "metadata": {},
   "outputs": [
    {
     "data": {
      "text/plain": [
       "0      Léa nature\n",
       "1      Léa nature\n",
       "2      Léa nature\n",
       "3      Léa nature\n",
       "4      Léa nature\n",
       "          ...    \n",
       "896      U, U Bio\n",
       "897      U, U Bio\n",
       "898      U, U Bio\n",
       "899      U, U Bio\n",
       "900      U, U Bio\n",
       "Name: brand, Length: 901, dtype: object"
      ]
     },
     "execution_count": 36,
     "metadata": {},
     "output_type": "execute_result"
    }
   ],
   "source": [
    "df['brand']"
   ]
  },
  {
   "cell_type": "code",
   "execution_count": 37,
   "id": "ef521e9d",
   "metadata": {},
   "outputs": [
    {
     "data": {
      "text/plain": [
       "np.int64(0)"
      ]
     },
     "execution_count": 37,
     "metadata": {},
     "output_type": "execute_result"
    }
   ],
   "source": [
    "(df['product_name'] == \"\").sum()"
   ]
  },
  {
   "cell_type": "code",
   "execution_count": 39,
   "id": "3f374527",
   "metadata": {},
   "outputs": [
    {
     "data": {
      "text/plain": [
       "(901, 13)"
      ]
     },
     "execution_count": 39,
     "metadata": {},
     "output_type": "execute_result"
    }
   ],
   "source": [
    "df.shape\n"
   ]
  },
  {
   "cell_type": "code",
   "execution_count": null,
   "id": "e73afe83",
   "metadata": {},
   "outputs": [],
   "source": []
  }
 ],
 "metadata": {
  "kernelspec": {
   "display_name": "eco-product-demand-forecast (3.12.4)",
   "language": "python",
   "name": "python3"
  },
  "language_info": {
   "codemirror_mode": {
    "name": "ipython",
    "version": 3
   },
   "file_extension": ".py",
   "mimetype": "text/x-python",
   "name": "python",
   "nbconvert_exporter": "python",
   "pygments_lexer": "ipython3",
   "version": "3.12.4"
  }
 },
 "nbformat": 4,
 "nbformat_minor": 5
}
