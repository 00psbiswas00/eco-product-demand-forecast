{
 "cells": [
  {
   "cell_type": "code",
   "execution_count": 1,
   "id": "108e4443",
   "metadata": {},
   "outputs": [],
   "source": [
    "import pandas as pd\n",
    "import sqlite3"
   ]
  },
  {
   "cell_type": "code",
   "execution_count": 2,
   "id": "898c45aa",
   "metadata": {},
   "outputs": [],
   "source": [
    "con= sqlite3.connect('../data/raw/products.db')\n"
   ]
  },
  {
   "cell_type": "code",
   "execution_count": 3,
   "id": "0ff9f471",
   "metadata": {},
   "outputs": [
    {
     "data": {
      "text/html": [
       "<div>\n",
       "<style scoped>\n",
       "    .dataframe tbody tr th:only-of-type {\n",
       "        vertical-align: middle;\n",
       "    }\n",
       "\n",
       "    .dataframe tbody tr th {\n",
       "        vertical-align: top;\n",
       "    }\n",
       "\n",
       "    .dataframe thead th {\n",
       "        text-align: right;\n",
       "    }\n",
       "</style>\n",
       "<table border=\"1\" class=\"dataframe\">\n",
       "  <thead>\n",
       "    <tr style=\"text-align: right;\">\n",
       "      <th></th>\n",
       "      <th>product_name</th>\n",
       "      <th>brand</th>\n",
       "      <th>categories</th>\n",
       "      <th>labels</th>\n",
       "      <th>packaging</th>\n",
       "      <th>nutriscore_grade</th>\n",
       "      <th>ecoscore_grade</th>\n",
       "      <th>url</th>\n",
       "    </tr>\n",
       "  </thead>\n",
       "  <tbody>\n",
       "    <tr>\n",
       "      <th>0</th>\n",
       "      <td>Organic - Lightly Salted - Wholegrain Low Fat ...</td>\n",
       "      <td>Kallø</td>\n",
       "      <td>Plant-based foods and beverages,Plant-based fo...</td>\n",
       "      <td>Low or no fat, Low fat, No gluten, Organic, Ve...</td>\n",
       "      <td>Plastic, Bag, Unknown, en:ldpe-wrapper</td>\n",
       "      <td>unknown</td>\n",
       "      <td>b</td>\n",
       "      <td>https://world.openfoodfacts.org/product/501366...</td>\n",
       "    </tr>\n",
       "    <tr>\n",
       "      <th>1</th>\n",
       "      <td>Primevère bio doux tartine &amp; cuisson</td>\n",
       "      <td>Primevère</td>\n",
       "      <td>Plant-based foods and beverages, Plant-based f...</td>\n",
       "      <td>Organic, EU Organic, No preservatives, Non-EU ...</td>\n",
       "      <td>Plastic,Box,Fresh,Tray,fr:Opercule en métal</td>\n",
       "      <td>c</td>\n",
       "      <td>b</td>\n",
       "      <td>https://world.openfoodfacts.org/product/315525...</td>\n",
       "    </tr>\n",
       "    <tr>\n",
       "      <th>2</th>\n",
       "      <td>Flocons d'avoine</td>\n",
       "      <td>Bjorg</td>\n",
       "      <td>Plant-based foods and beverages,Plant-based fo...</td>\n",
       "      <td>Organic,Certified by Ecocert,EU Organic,Source...</td>\n",
       "      <td>pet-bottle, hdpe-cap, en:paper-carton</td>\n",
       "      <td>a</td>\n",
       "      <td>a</td>\n",
       "      <td>https://world.openfoodfacts.org/product/322982...</td>\n",
       "    </tr>\n",
       "    <tr>\n",
       "      <th>3</th>\n",
       "      <td>Tofoo Naked</td>\n",
       "      <td>The Tofoo Co.</td>\n",
       "      <td>Plant-based foods and beverages,Plant-based fo...</td>\n",
       "      <td>No gluten,Organic,Vegetarian,EU Organic,No GMO...</td>\n",
       "      <td>en:Card-box,en:Mixed plastic-film</td>\n",
       "      <td>a</td>\n",
       "      <td>a-plus</td>\n",
       "      <td>https://world.openfoodfacts.org/product/503446...</td>\n",
       "    </tr>\n",
       "    <tr>\n",
       "      <th>4</th>\n",
       "      <td>Croustillant Chocolat</td>\n",
       "      <td>Bjorg</td>\n",
       "      <td>Plant-based foods and beverages,Plant-based fo...</td>\n",
       "      <td>Organic,EU Organic,Non-EU Agriculture,EU Agric...</td>\n",
       "      <td>Bag</td>\n",
       "      <td>c</td>\n",
       "      <td>c</td>\n",
       "      <td>https://world.openfoodfacts.org/product/322982...</td>\n",
       "    </tr>\n",
       "  </tbody>\n",
       "</table>\n",
       "</div>"
      ],
      "text/plain": [
       "                                        product_name          brand  \\\n",
       "0  Organic - Lightly Salted - Wholegrain Low Fat ...          Kallø   \n",
       "1               Primevère bio doux tartine & cuisson      Primevère   \n",
       "2                                   Flocons d'avoine          Bjorg   \n",
       "3                                        Tofoo Naked  The Tofoo Co.   \n",
       "4                              Croustillant Chocolat          Bjorg   \n",
       "\n",
       "                                          categories  \\\n",
       "0  Plant-based foods and beverages,Plant-based fo...   \n",
       "1  Plant-based foods and beverages, Plant-based f...   \n",
       "2  Plant-based foods and beverages,Plant-based fo...   \n",
       "3  Plant-based foods and beverages,Plant-based fo...   \n",
       "4  Plant-based foods and beverages,Plant-based fo...   \n",
       "\n",
       "                                              labels  \\\n",
       "0  Low or no fat, Low fat, No gluten, Organic, Ve...   \n",
       "1  Organic, EU Organic, No preservatives, Non-EU ...   \n",
       "2  Organic,Certified by Ecocert,EU Organic,Source...   \n",
       "3  No gluten,Organic,Vegetarian,EU Organic,No GMO...   \n",
       "4  Organic,EU Organic,Non-EU Agriculture,EU Agric...   \n",
       "\n",
       "                                     packaging nutriscore_grade  \\\n",
       "0       Plastic, Bag, Unknown, en:ldpe-wrapper          unknown   \n",
       "1  Plastic,Box,Fresh,Tray,fr:Opercule en métal                c   \n",
       "2        pet-bottle, hdpe-cap, en:paper-carton                a   \n",
       "3            en:Card-box,en:Mixed plastic-film                a   \n",
       "4                                          Bag                c   \n",
       "\n",
       "  ecoscore_grade                                                url  \n",
       "0              b  https://world.openfoodfacts.org/product/501366...  \n",
       "1              b  https://world.openfoodfacts.org/product/315525...  \n",
       "2              a  https://world.openfoodfacts.org/product/322982...  \n",
       "3         a-plus  https://world.openfoodfacts.org/product/503446...  \n",
       "4              c  https://world.openfoodfacts.org/product/322982...  "
      ]
     },
     "execution_count": 3,
     "metadata": {},
     "output_type": "execute_result"
    }
   ],
   "source": [
    "openfoodfacts_raw_df=pd.read_sql('SELECT * FROM openfoodfacts_raw;', con)\n",
    "openfoodfacts_raw_df.head(5)"
   ]
  },
  {
   "cell_type": "code",
   "execution_count": 4,
   "id": "8faf423d",
   "metadata": {},
   "outputs": [
    {
     "data": {
      "text/html": [
       "<div>\n",
       "<style scoped>\n",
       "    .dataframe tbody tr th:only-of-type {\n",
       "        vertical-align: middle;\n",
       "    }\n",
       "\n",
       "    .dataframe tbody tr th {\n",
       "        vertical-align: top;\n",
       "    }\n",
       "\n",
       "    .dataframe thead th {\n",
       "        text-align: right;\n",
       "    }\n",
       "</style>\n",
       "<table border=\"1\" class=\"dataframe\">\n",
       "  <thead>\n",
       "    <tr style=\"text-align: right;\">\n",
       "      <th></th>\n",
       "      <th>product_name</th>\n",
       "      <th>brand</th>\n",
       "      <th>categories</th>\n",
       "      <th>labels</th>\n",
       "      <th>packaging</th>\n",
       "      <th>nutriscore_grade</th>\n",
       "      <th>ecoscore_grade</th>\n",
       "      <th>url</th>\n",
       "    </tr>\n",
       "  </thead>\n",
       "  <tbody>\n",
       "    <tr>\n",
       "      <th>0</th>\n",
       "      <td>Natural Deodorant Skincare</td>\n",
       "      <td>BullDog</td>\n",
       "      <td>Roll On</td>\n",
       "      <td>None</td>\n",
       "      <td>Plastic</td>\n",
       "      <td>None</td>\n",
       "      <td>None</td>\n",
       "      <td>https://world.openbeautyfacts.org/product/5060...</td>\n",
       "    </tr>\n",
       "    <tr>\n",
       "      <th>1</th>\n",
       "      <td>Soie Royale BIO Cure Soyeuse Soin Hydratation ...</td>\n",
       "      <td>Cure Soyeuse, Royalsilk, Soie Royale</td>\n",
       "      <td>en:plant-based-foods-and-beverages, en:plant-b...</td>\n",
       "      <td>100% naturel, en:no-alcohol, Sans colorants, e...</td>\n",
       "      <td>Flacon</td>\n",
       "      <td>None</td>\n",
       "      <td>None</td>\n",
       "      <td>https://world.openbeautyfacts.org/product/3760...</td>\n",
       "    </tr>\n",
       "    <tr>\n",
       "      <th>2</th>\n",
       "      <td>Bun</td>\n",
       "      <td>Foster Poultry Farms</td>\n",
       "      <td>Condiments, Meats and their products, Meats, C...</td>\n",
       "      <td>Organic, No GMOs, Non GMO project</td>\n",
       "      <td>None</td>\n",
       "      <td>c</td>\n",
       "      <td>e</td>\n",
       "      <td>https://world.openbeautyfacts.org/product/0000...</td>\n",
       "    </tr>\n",
       "    <tr>\n",
       "      <th>3</th>\n",
       "      <td>Baby bio organic shampoo</td>\n",
       "      <td>Corine de Farme</td>\n",
       "      <td>Non food products,Open Beauty Facts</td>\n",
       "      <td>Organic,Green Dot,Made in France</td>\n",
       "      <td></td>\n",
       "      <td>not-applicable</td>\n",
       "      <td>unknown</td>\n",
       "      <td>https://world.openbeautyfacts.org/product/3468...</td>\n",
       "    </tr>\n",
       "    <tr>\n",
       "      <th>4</th>\n",
       "      <td>Strawberry and organic mint shampoo</td>\n",
       "      <td>Child's Farm</td>\n",
       "      <td>en:shampoo</td>\n",
       "      <td>None</td>\n",
       "      <td>None</td>\n",
       "      <td>None</td>\n",
       "      <td>unknown</td>\n",
       "      <td>https://world.openbeautyfacts.org/product/5029...</td>\n",
       "    </tr>\n",
       "  </tbody>\n",
       "</table>\n",
       "</div>"
      ],
      "text/plain": [
       "                                        product_name  \\\n",
       "0                         Natural Deodorant Skincare   \n",
       "1  Soie Royale BIO Cure Soyeuse Soin Hydratation ...   \n",
       "2                                                Bun   \n",
       "3                           Baby bio organic shampoo   \n",
       "4                Strawberry and organic mint shampoo   \n",
       "\n",
       "                                  brand  \\\n",
       "0                               BullDog   \n",
       "1  Cure Soyeuse, Royalsilk, Soie Royale   \n",
       "2                  Foster Poultry Farms   \n",
       "3                       Corine de Farme   \n",
       "4                          Child's Farm   \n",
       "\n",
       "                                          categories  \\\n",
       "0                                            Roll On   \n",
       "1  en:plant-based-foods-and-beverages, en:plant-b...   \n",
       "2  Condiments, Meats and their products, Meats, C...   \n",
       "3                Non food products,Open Beauty Facts   \n",
       "4                                         en:shampoo   \n",
       "\n",
       "                                              labels packaging  \\\n",
       "0                                               None   Plastic   \n",
       "1  100% naturel, en:no-alcohol, Sans colorants, e...    Flacon   \n",
       "2                  Organic, No GMOs, Non GMO project      None   \n",
       "3                   Organic,Green Dot,Made in France             \n",
       "4                                               None      None   \n",
       "\n",
       "  nutriscore_grade ecoscore_grade  \\\n",
       "0             None           None   \n",
       "1             None           None   \n",
       "2                c              e   \n",
       "3   not-applicable        unknown   \n",
       "4             None        unknown   \n",
       "\n",
       "                                                 url  \n",
       "0  https://world.openbeautyfacts.org/product/5060...  \n",
       "1  https://world.openbeautyfacts.org/product/3760...  \n",
       "2  https://world.openbeautyfacts.org/product/0000...  \n",
       "3  https://world.openbeautyfacts.org/product/3468...  \n",
       "4  https://world.openbeautyfacts.org/product/5029...  "
      ]
     },
     "execution_count": 4,
     "metadata": {},
     "output_type": "execute_result"
    }
   ],
   "source": [
    "openbeautyfacts_raw_df=pd.read_sql('SELECT * FROM openbeautyfacts_raw;', con)\n",
    "openbeautyfacts_raw_df.head(5)"
   ]
  },
  {
   "cell_type": "code",
   "execution_count": 5,
   "id": "4900bd56",
   "metadata": {},
   "outputs": [
    {
     "data": {
      "text/plain": [
       "product_name         2.469136\n",
       "brand                3.703704\n",
       "categories           1.234568\n",
       "labels               6.172840\n",
       "packaging           35.802469\n",
       "nutriscore_grade     0.000000\n",
       "ecoscore_grade       0.000000\n",
       "url                  0.000000\n",
       "dtype: float64"
      ]
     },
     "execution_count": 5,
     "metadata": {},
     "output_type": "execute_result"
    }
   ],
   "source": [
    "openfoodfacts_raw_df.isnull().sum()/openbeautyfacts_raw_df.shape[0]*100"
   ]
  },
  {
   "cell_type": "code",
   "execution_count": 6,
   "id": "6fac3e6e",
   "metadata": {},
   "outputs": [],
   "source": [
    "openfoodfacts_raw_df=openfoodfacts_raw_df.dropna(subset=['product_name','url'],axis=0)"
   ]
  },
  {
   "cell_type": "code",
   "execution_count": 18,
   "id": "e16c8b13",
   "metadata": {},
   "outputs": [],
   "source": [
    "openfoodfacts_raw_df[['brand','categories','labels','packaging','ecoscore_grade', 'nutriscore_grade']]=openfoodfacts_raw_df[['brand','categories','labels','packaging','ecoscore_grade', 'nutriscore_grade']].fillna('unknown',axis=0)"
   ]
  },
  {
   "cell_type": "code",
   "execution_count": 19,
   "id": "029eb187",
   "metadata": {},
   "outputs": [
    {
     "data": {
      "text/plain": [
       "product_name        0.0\n",
       "brand               0.0\n",
       "categories          0.0\n",
       "labels              0.0\n",
       "packaging           0.0\n",
       "nutriscore_grade    0.0\n",
       "ecoscore_grade      0.0\n",
       "url                 0.0\n",
       "dtype: float64"
      ]
     },
     "execution_count": 19,
     "metadata": {},
     "output_type": "execute_result"
    }
   ],
   "source": [
    "openfoodfacts_raw_df.isnull().sum()/openbeautyfacts_raw_df.shape[0]*100"
   ]
  },
  {
   "cell_type": "code",
   "execution_count": 20,
   "id": "5ffc2a93",
   "metadata": {},
   "outputs": [
    {
     "data": {
      "text/plain": [
       "product_name       0.000000\n",
       "brand              0.000000\n",
       "categories         0.000000\n",
       "labels             0.000000\n",
       "packaging          0.000000\n",
       "ecoscore_grade    27.868852\n",
       "url                0.000000\n",
       "dtype: float64"
      ]
     },
     "execution_count": 20,
     "metadata": {},
     "output_type": "execute_result"
    }
   ],
   "source": [
    "openbeautyfacts_raw_df.isnull().sum()/openbeautyfacts_raw_df.shape[0]*100"
   ]
  },
  {
   "cell_type": "code",
   "execution_count": 21,
   "id": "ec8c17c9",
   "metadata": {},
   "outputs": [
    {
     "ename": "KeyError",
     "evalue": "\"['nutriscore_grade'] not found in axis\"",
     "output_type": "error",
     "traceback": [
      "\u001b[31m---------------------------------------------------------------------------\u001b[39m",
      "\u001b[31mKeyError\u001b[39m                                  Traceback (most recent call last)",
      "\u001b[36mCell\u001b[39m\u001b[36m \u001b[39m\u001b[32mIn[21]\u001b[39m\u001b[32m, line 1\u001b[39m\n\u001b[32m----> \u001b[39m\u001b[32m1\u001b[39m openbeautyfacts_raw_df=\u001b[43mopenbeautyfacts_raw_df\u001b[49m\u001b[43m.\u001b[49m\u001b[43mdrop\u001b[49m\u001b[43m(\u001b[49m\u001b[33;43m'\u001b[39;49m\u001b[33;43mnutriscore_grade\u001b[39;49m\u001b[33;43m'\u001b[39;49m\u001b[43m,\u001b[49m\u001b[43m \u001b[49m\u001b[43maxis\u001b[49m\u001b[43m=\u001b[49m\u001b[32;43m1\u001b[39;49m\u001b[43m)\u001b[49m\n",
      "\u001b[36mFile \u001b[39m\u001b[32m~/Desktop/portfolio/eco-product-demand-forecast/.venv/lib/python3.12/site-packages/pandas/core/frame.py:5588\u001b[39m, in \u001b[36mDataFrame.drop\u001b[39m\u001b[34m(self, labels, axis, index, columns, level, inplace, errors)\u001b[39m\n\u001b[32m   5440\u001b[39m \u001b[38;5;28;01mdef\u001b[39;00m\u001b[38;5;250m \u001b[39m\u001b[34mdrop\u001b[39m(\n\u001b[32m   5441\u001b[39m     \u001b[38;5;28mself\u001b[39m,\n\u001b[32m   5442\u001b[39m     labels: IndexLabel | \u001b[38;5;28;01mNone\u001b[39;00m = \u001b[38;5;28;01mNone\u001b[39;00m,\n\u001b[32m   (...)\u001b[39m\u001b[32m   5449\u001b[39m     errors: IgnoreRaise = \u001b[33m\"\u001b[39m\u001b[33mraise\u001b[39m\u001b[33m\"\u001b[39m,\n\u001b[32m   5450\u001b[39m ) -> DataFrame | \u001b[38;5;28;01mNone\u001b[39;00m:\n\u001b[32m   5451\u001b[39m \u001b[38;5;250m    \u001b[39m\u001b[33;03m\"\"\"\u001b[39;00m\n\u001b[32m   5452\u001b[39m \u001b[33;03m    Drop specified labels from rows or columns.\u001b[39;00m\n\u001b[32m   5453\u001b[39m \n\u001b[32m   (...)\u001b[39m\u001b[32m   5586\u001b[39m \u001b[33;03m            weight  1.0     0.8\u001b[39;00m\n\u001b[32m   5587\u001b[39m \u001b[33;03m    \"\"\"\u001b[39;00m\n\u001b[32m-> \u001b[39m\u001b[32m5588\u001b[39m     \u001b[38;5;28;01mreturn\u001b[39;00m \u001b[38;5;28;43msuper\u001b[39;49m\u001b[43m(\u001b[49m\u001b[43m)\u001b[49m\u001b[43m.\u001b[49m\u001b[43mdrop\u001b[49m\u001b[43m(\u001b[49m\n\u001b[32m   5589\u001b[39m \u001b[43m        \u001b[49m\u001b[43mlabels\u001b[49m\u001b[43m=\u001b[49m\u001b[43mlabels\u001b[49m\u001b[43m,\u001b[49m\n\u001b[32m   5590\u001b[39m \u001b[43m        \u001b[49m\u001b[43maxis\u001b[49m\u001b[43m=\u001b[49m\u001b[43maxis\u001b[49m\u001b[43m,\u001b[49m\n\u001b[32m   5591\u001b[39m \u001b[43m        \u001b[49m\u001b[43mindex\u001b[49m\u001b[43m=\u001b[49m\u001b[43mindex\u001b[49m\u001b[43m,\u001b[49m\n\u001b[32m   5592\u001b[39m \u001b[43m        \u001b[49m\u001b[43mcolumns\u001b[49m\u001b[43m=\u001b[49m\u001b[43mcolumns\u001b[49m\u001b[43m,\u001b[49m\n\u001b[32m   5593\u001b[39m \u001b[43m        \u001b[49m\u001b[43mlevel\u001b[49m\u001b[43m=\u001b[49m\u001b[43mlevel\u001b[49m\u001b[43m,\u001b[49m\n\u001b[32m   5594\u001b[39m \u001b[43m        \u001b[49m\u001b[43minplace\u001b[49m\u001b[43m=\u001b[49m\u001b[43minplace\u001b[49m\u001b[43m,\u001b[49m\n\u001b[32m   5595\u001b[39m \u001b[43m        \u001b[49m\u001b[43merrors\u001b[49m\u001b[43m=\u001b[49m\u001b[43merrors\u001b[49m\u001b[43m,\u001b[49m\n\u001b[32m   5596\u001b[39m \u001b[43m    \u001b[49m\u001b[43m)\u001b[49m\n",
      "\u001b[36mFile \u001b[39m\u001b[32m~/Desktop/portfolio/eco-product-demand-forecast/.venv/lib/python3.12/site-packages/pandas/core/generic.py:4807\u001b[39m, in \u001b[36mNDFrame.drop\u001b[39m\u001b[34m(self, labels, axis, index, columns, level, inplace, errors)\u001b[39m\n\u001b[32m   4805\u001b[39m \u001b[38;5;28;01mfor\u001b[39;00m axis, labels \u001b[38;5;129;01min\u001b[39;00m axes.items():\n\u001b[32m   4806\u001b[39m     \u001b[38;5;28;01mif\u001b[39;00m labels \u001b[38;5;129;01mis\u001b[39;00m \u001b[38;5;129;01mnot\u001b[39;00m \u001b[38;5;28;01mNone\u001b[39;00m:\n\u001b[32m-> \u001b[39m\u001b[32m4807\u001b[39m         obj = \u001b[43mobj\u001b[49m\u001b[43m.\u001b[49m\u001b[43m_drop_axis\u001b[49m\u001b[43m(\u001b[49m\u001b[43mlabels\u001b[49m\u001b[43m,\u001b[49m\u001b[43m \u001b[49m\u001b[43maxis\u001b[49m\u001b[43m,\u001b[49m\u001b[43m \u001b[49m\u001b[43mlevel\u001b[49m\u001b[43m=\u001b[49m\u001b[43mlevel\u001b[49m\u001b[43m,\u001b[49m\u001b[43m \u001b[49m\u001b[43merrors\u001b[49m\u001b[43m=\u001b[49m\u001b[43merrors\u001b[49m\u001b[43m)\u001b[49m\n\u001b[32m   4809\u001b[39m \u001b[38;5;28;01mif\u001b[39;00m inplace:\n\u001b[32m   4810\u001b[39m     \u001b[38;5;28mself\u001b[39m._update_inplace(obj)\n",
      "\u001b[36mFile \u001b[39m\u001b[32m~/Desktop/portfolio/eco-product-demand-forecast/.venv/lib/python3.12/site-packages/pandas/core/generic.py:4849\u001b[39m, in \u001b[36mNDFrame._drop_axis\u001b[39m\u001b[34m(self, labels, axis, level, errors, only_slice)\u001b[39m\n\u001b[32m   4847\u001b[39m         new_axis = axis.drop(labels, level=level, errors=errors)\n\u001b[32m   4848\u001b[39m     \u001b[38;5;28;01melse\u001b[39;00m:\n\u001b[32m-> \u001b[39m\u001b[32m4849\u001b[39m         new_axis = \u001b[43maxis\u001b[49m\u001b[43m.\u001b[49m\u001b[43mdrop\u001b[49m\u001b[43m(\u001b[49m\u001b[43mlabels\u001b[49m\u001b[43m,\u001b[49m\u001b[43m \u001b[49m\u001b[43merrors\u001b[49m\u001b[43m=\u001b[49m\u001b[43merrors\u001b[49m\u001b[43m)\u001b[49m\n\u001b[32m   4850\u001b[39m     indexer = axis.get_indexer(new_axis)\n\u001b[32m   4852\u001b[39m \u001b[38;5;66;03m# Case for non-unique axis\u001b[39;00m\n\u001b[32m   4853\u001b[39m \u001b[38;5;28;01melse\u001b[39;00m:\n",
      "\u001b[36mFile \u001b[39m\u001b[32m~/Desktop/portfolio/eco-product-demand-forecast/.venv/lib/python3.12/site-packages/pandas/core/indexes/base.py:7136\u001b[39m, in \u001b[36mIndex.drop\u001b[39m\u001b[34m(self, labels, errors)\u001b[39m\n\u001b[32m   7134\u001b[39m \u001b[38;5;28;01mif\u001b[39;00m mask.any():\n\u001b[32m   7135\u001b[39m     \u001b[38;5;28;01mif\u001b[39;00m errors != \u001b[33m\"\u001b[39m\u001b[33mignore\u001b[39m\u001b[33m\"\u001b[39m:\n\u001b[32m-> \u001b[39m\u001b[32m7136\u001b[39m         \u001b[38;5;28;01mraise\u001b[39;00m \u001b[38;5;167;01mKeyError\u001b[39;00m(\u001b[33mf\u001b[39m\u001b[33m\"\u001b[39m\u001b[38;5;132;01m{\u001b[39;00mlabels[mask].tolist()\u001b[38;5;132;01m}\u001b[39;00m\u001b[33m not found in axis\u001b[39m\u001b[33m\"\u001b[39m)\n\u001b[32m   7137\u001b[39m     indexer = indexer[~mask]\n\u001b[32m   7138\u001b[39m \u001b[38;5;28;01mreturn\u001b[39;00m \u001b[38;5;28mself\u001b[39m.delete(indexer)\n",
      "\u001b[31mKeyError\u001b[39m: \"['nutriscore_grade'] not found in axis\""
     ]
    }
   ],
   "source": [
    "openbeautyfacts_raw_df=openbeautyfacts_raw_df.drop('nutriscore_grade', axis=1)"
   ]
  },
  {
   "cell_type": "code",
   "execution_count": 24,
   "id": "795f3a45",
   "metadata": {},
   "outputs": [],
   "source": [
    "openbeautyfacts_raw_df[['brand','categories','labels','packaging','ecoscore_grade']]=openbeautyfacts_raw_df[['brand','categories','labels','packaging','ecoscore_grade']].fillna('unknown',axis=0)"
   ]
  },
  {
   "cell_type": "code",
   "execution_count": 25,
   "id": "97bdfb5c",
   "metadata": {},
   "outputs": [
    {
     "data": {
      "text/plain": [
       "product_name      0.0\n",
       "brand             0.0\n",
       "categories        0.0\n",
       "labels            0.0\n",
       "packaging         0.0\n",
       "ecoscore_grade    0.0\n",
       "url               0.0\n",
       "dtype: float64"
      ]
     },
     "execution_count": 25,
     "metadata": {},
     "output_type": "execute_result"
    }
   ],
   "source": [
    "openbeautyfacts_raw_df.isnull().sum()/openbeautyfacts_raw_df.shape[0]*100"
   ]
  },
  {
   "cell_type": "code",
   "execution_count": null,
   "id": "e9b1bf66",
   "metadata": {},
   "outputs": [
    {
     "data": {
      "text/plain": [
       "Index(['product_name', 'brand', 'categories', 'labels', 'packaging',\n",
       "       'ecoscore_grade', 'url'],\n",
       "      dtype='object')"
      ]
     },
     "execution_count": 23,
     "metadata": {},
     "output_type": "execute_result"
    }
   ],
   "source": [
    "openbeautyfacts_raw_df.columns"
   ]
  },
  {
   "cell_type": "code",
   "execution_count": null,
   "id": "2d0d4f7a",
   "metadata": {},
   "outputs": [
    {
     "data": {
      "text/plain": [
       "np.int64(19)"
      ]
     },
     "execution_count": 24,
     "metadata": {},
     "output_type": "execute_result"
    }
   ],
   "source": [
    "openbeautyfacts_raw_df.duplicated(subset=['product_name', 'brand']).sum()"
   ]
  },
  {
   "cell_type": "code",
   "execution_count": null,
   "id": "5a076c3c",
   "metadata": {},
   "outputs": [
    {
     "data": {
      "text/plain": [
       "np.int64(6)"
      ]
     },
     "execution_count": 25,
     "metadata": {},
     "output_type": "execute_result"
    }
   ],
   "source": [
    "openfoodfacts_raw_df.duplicated(subset=['product_name', 'brand']).sum()"
   ]
  },
  {
   "cell_type": "code",
   "execution_count": null,
   "id": "bee66310",
   "metadata": {},
   "outputs": [],
   "source": []
  }
 ],
 "metadata": {
  "kernelspec": {
   "display_name": "eco-product-demand-forecast (3.12.4)",
   "language": "python",
   "name": "python3"
  },
  "language_info": {
   "codemirror_mode": {
    "name": "ipython",
    "version": 3
   },
   "file_extension": ".py",
   "mimetype": "text/x-python",
   "name": "python",
   "nbconvert_exporter": "python",
   "pygments_lexer": "ipython3",
   "version": "3.12.4"
  }
 },
 "nbformat": 4,
 "nbformat_minor": 5
}
