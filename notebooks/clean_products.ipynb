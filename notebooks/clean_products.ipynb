{
 "cells": [
  {
   "cell_type": "code",
   "execution_count": 1,
   "id": "108e4443",
   "metadata": {},
   "outputs": [],
   "source": [
    "import pandas as pd\n",
    "import sqlite3"
   ]
  },
  {
   "cell_type": "code",
   "execution_count": 2,
   "id": "898c45aa",
   "metadata": {},
   "outputs": [],
   "source": [
    "con= sqlite3.connect('../data/raw/products.db')\n"
   ]
  },
  {
   "cell_type": "code",
   "execution_count": 3,
   "id": "0ff9f471",
   "metadata": {},
   "outputs": [
    {
     "data": {
      "text/html": [
       "<div>\n",
       "<style scoped>\n",
       "    .dataframe tbody tr th:only-of-type {\n",
       "        vertical-align: middle;\n",
       "    }\n",
       "\n",
       "    .dataframe tbody tr th {\n",
       "        vertical-align: top;\n",
       "    }\n",
       "\n",
       "    .dataframe thead th {\n",
       "        text-align: right;\n",
       "    }\n",
       "</style>\n",
       "<table border=\"1\" class=\"dataframe\">\n",
       "  <thead>\n",
       "    <tr style=\"text-align: right;\">\n",
       "      <th></th>\n",
       "      <th>product_name</th>\n",
       "      <th>brand</th>\n",
       "      <th>categories</th>\n",
       "      <th>labels</th>\n",
       "      <th>packaging</th>\n",
       "      <th>nutriscore_grade</th>\n",
       "      <th>ecoscore_grade</th>\n",
       "      <th>url</th>\n",
       "    </tr>\n",
       "  </thead>\n",
       "  <tbody>\n",
       "    <tr>\n",
       "      <th>0</th>\n",
       "      <td>Organic - Lightly Salted - Wholegrain Low Fat ...</td>\n",
       "      <td>Kallø</td>\n",
       "      <td>Plant-based foods and beverages,Plant-based fo...</td>\n",
       "      <td>Low or no fat, Low fat, No gluten, Organic, Ve...</td>\n",
       "      <td>Plastic, Bag, Unknown, en:ldpe-wrapper</td>\n",
       "      <td>unknown</td>\n",
       "      <td>b</td>\n",
       "      <td>https://world.openfoodfacts.org/product/501366...</td>\n",
       "    </tr>\n",
       "    <tr>\n",
       "      <th>1</th>\n",
       "      <td>Primevère bio doux tartine &amp; cuisson</td>\n",
       "      <td>Primevère</td>\n",
       "      <td>Plant-based foods and beverages, Plant-based f...</td>\n",
       "      <td>Organic, EU Organic, No preservatives, Non-EU ...</td>\n",
       "      <td>Plastic,Box,Fresh,Tray,fr:Opercule en métal</td>\n",
       "      <td>c</td>\n",
       "      <td>b</td>\n",
       "      <td>https://world.openfoodfacts.org/product/315525...</td>\n",
       "    </tr>\n",
       "    <tr>\n",
       "      <th>2</th>\n",
       "      <td>Flocons d'avoine</td>\n",
       "      <td>Bjorg</td>\n",
       "      <td>Plant-based foods and beverages,Plant-based fo...</td>\n",
       "      <td>Organic,Certified by Ecocert,EU Organic,Source...</td>\n",
       "      <td>pet-bottle, hdpe-cap, en:paper-carton</td>\n",
       "      <td>a</td>\n",
       "      <td>a</td>\n",
       "      <td>https://world.openfoodfacts.org/product/322982...</td>\n",
       "    </tr>\n",
       "    <tr>\n",
       "      <th>3</th>\n",
       "      <td>Tofoo Naked</td>\n",
       "      <td>The Tofoo Co.</td>\n",
       "      <td>Plant-based foods and beverages,Plant-based fo...</td>\n",
       "      <td>No gluten,Organic,Vegetarian,EU Organic,No GMO...</td>\n",
       "      <td>en:Card-box,en:Mixed plastic-film</td>\n",
       "      <td>a</td>\n",
       "      <td>a-plus</td>\n",
       "      <td>https://world.openfoodfacts.org/product/503446...</td>\n",
       "    </tr>\n",
       "    <tr>\n",
       "      <th>4</th>\n",
       "      <td>Croustillant Chocolat</td>\n",
       "      <td>Bjorg</td>\n",
       "      <td>Plant-based foods and beverages,Plant-based fo...</td>\n",
       "      <td>Organic,EU Organic,Non-EU Agriculture,EU Agric...</td>\n",
       "      <td>Bag</td>\n",
       "      <td>c</td>\n",
       "      <td>c</td>\n",
       "      <td>https://world.openfoodfacts.org/product/322982...</td>\n",
       "    </tr>\n",
       "  </tbody>\n",
       "</table>\n",
       "</div>"
      ],
      "text/plain": [
       "                                        product_name          brand  \\\n",
       "0  Organic - Lightly Salted - Wholegrain Low Fat ...          Kallø   \n",
       "1               Primevère bio doux tartine & cuisson      Primevère   \n",
       "2                                   Flocons d'avoine          Bjorg   \n",
       "3                                        Tofoo Naked  The Tofoo Co.   \n",
       "4                              Croustillant Chocolat          Bjorg   \n",
       "\n",
       "                                          categories  \\\n",
       "0  Plant-based foods and beverages,Plant-based fo...   \n",
       "1  Plant-based foods and beverages, Plant-based f...   \n",
       "2  Plant-based foods and beverages,Plant-based fo...   \n",
       "3  Plant-based foods and beverages,Plant-based fo...   \n",
       "4  Plant-based foods and beverages,Plant-based fo...   \n",
       "\n",
       "                                              labels  \\\n",
       "0  Low or no fat, Low fat, No gluten, Organic, Ve...   \n",
       "1  Organic, EU Organic, No preservatives, Non-EU ...   \n",
       "2  Organic,Certified by Ecocert,EU Organic,Source...   \n",
       "3  No gluten,Organic,Vegetarian,EU Organic,No GMO...   \n",
       "4  Organic,EU Organic,Non-EU Agriculture,EU Agric...   \n",
       "\n",
       "                                     packaging nutriscore_grade  \\\n",
       "0       Plastic, Bag, Unknown, en:ldpe-wrapper          unknown   \n",
       "1  Plastic,Box,Fresh,Tray,fr:Opercule en métal                c   \n",
       "2        pet-bottle, hdpe-cap, en:paper-carton                a   \n",
       "3            en:Card-box,en:Mixed plastic-film                a   \n",
       "4                                          Bag                c   \n",
       "\n",
       "  ecoscore_grade                                                url  \n",
       "0              b  https://world.openfoodfacts.org/product/501366...  \n",
       "1              b  https://world.openfoodfacts.org/product/315525...  \n",
       "2              a  https://world.openfoodfacts.org/product/322982...  \n",
       "3         a-plus  https://world.openfoodfacts.org/product/503446...  \n",
       "4              c  https://world.openfoodfacts.org/product/322982...  "
      ]
     },
     "execution_count": 3,
     "metadata": {},
     "output_type": "execute_result"
    }
   ],
   "source": [
    "openfoodfacts_raw_df=pd.read_sql('SELECT * FROM openfoodfacts_raw;', con)\n",
    "openfoodfacts_raw_df.head(5)"
   ]
  },
  {
   "cell_type": "code",
   "execution_count": 4,
   "id": "8faf423d",
   "metadata": {},
   "outputs": [
    {
     "data": {
      "text/html": [
       "<div>\n",
       "<style scoped>\n",
       "    .dataframe tbody tr th:only-of-type {\n",
       "        vertical-align: middle;\n",
       "    }\n",
       "\n",
       "    .dataframe tbody tr th {\n",
       "        vertical-align: top;\n",
       "    }\n",
       "\n",
       "    .dataframe thead th {\n",
       "        text-align: right;\n",
       "    }\n",
       "</style>\n",
       "<table border=\"1\" class=\"dataframe\">\n",
       "  <thead>\n",
       "    <tr style=\"text-align: right;\">\n",
       "      <th></th>\n",
       "      <th>product_name</th>\n",
       "      <th>brand</th>\n",
       "      <th>categories</th>\n",
       "      <th>labels</th>\n",
       "      <th>packaging</th>\n",
       "      <th>nutriscore_grade</th>\n",
       "      <th>ecoscore_grade</th>\n",
       "      <th>url</th>\n",
       "    </tr>\n",
       "  </thead>\n",
       "  <tbody>\n",
       "    <tr>\n",
       "      <th>0</th>\n",
       "      <td>Natural Deodorant Skincare</td>\n",
       "      <td>BullDog</td>\n",
       "      <td>Roll On</td>\n",
       "      <td>None</td>\n",
       "      <td>Plastic</td>\n",
       "      <td>None</td>\n",
       "      <td>None</td>\n",
       "      <td>https://world.openbeautyfacts.org/product/5060...</td>\n",
       "    </tr>\n",
       "    <tr>\n",
       "      <th>1</th>\n",
       "      <td>Soie Royale BIO Cure Soyeuse Soin Hydratation ...</td>\n",
       "      <td>Cure Soyeuse, Royalsilk, Soie Royale</td>\n",
       "      <td>en:plant-based-foods-and-beverages, en:plant-b...</td>\n",
       "      <td>100% naturel, en:no-alcohol, Sans colorants, e...</td>\n",
       "      <td>Flacon</td>\n",
       "      <td>None</td>\n",
       "      <td>None</td>\n",
       "      <td>https://world.openbeautyfacts.org/product/3760...</td>\n",
       "    </tr>\n",
       "    <tr>\n",
       "      <th>2</th>\n",
       "      <td>Bun</td>\n",
       "      <td>Foster Poultry Farms</td>\n",
       "      <td>Condiments, Meats and their products, Meats, C...</td>\n",
       "      <td>Organic, No GMOs, Non GMO project</td>\n",
       "      <td>None</td>\n",
       "      <td>c</td>\n",
       "      <td>e</td>\n",
       "      <td>https://world.openbeautyfacts.org/product/0000...</td>\n",
       "    </tr>\n",
       "    <tr>\n",
       "      <th>3</th>\n",
       "      <td>Baby bio organic shampoo</td>\n",
       "      <td>Corine de Farme</td>\n",
       "      <td>Non food products,Open Beauty Facts</td>\n",
       "      <td>Organic,Green Dot,Made in France</td>\n",
       "      <td></td>\n",
       "      <td>not-applicable</td>\n",
       "      <td>unknown</td>\n",
       "      <td>https://world.openbeautyfacts.org/product/3468...</td>\n",
       "    </tr>\n",
       "    <tr>\n",
       "      <th>4</th>\n",
       "      <td>Strawberry and organic mint shampoo</td>\n",
       "      <td>Child's Farm</td>\n",
       "      <td>en:shampoo</td>\n",
       "      <td>None</td>\n",
       "      <td>None</td>\n",
       "      <td>None</td>\n",
       "      <td>unknown</td>\n",
       "      <td>https://world.openbeautyfacts.org/product/5029...</td>\n",
       "    </tr>\n",
       "  </tbody>\n",
       "</table>\n",
       "</div>"
      ],
      "text/plain": [
       "                                        product_name  \\\n",
       "0                         Natural Deodorant Skincare   \n",
       "1  Soie Royale BIO Cure Soyeuse Soin Hydratation ...   \n",
       "2                                                Bun   \n",
       "3                           Baby bio organic shampoo   \n",
       "4                Strawberry and organic mint shampoo   \n",
       "\n",
       "                                  brand  \\\n",
       "0                               BullDog   \n",
       "1  Cure Soyeuse, Royalsilk, Soie Royale   \n",
       "2                  Foster Poultry Farms   \n",
       "3                       Corine de Farme   \n",
       "4                          Child's Farm   \n",
       "\n",
       "                                          categories  \\\n",
       "0                                            Roll On   \n",
       "1  en:plant-based-foods-and-beverages, en:plant-b...   \n",
       "2  Condiments, Meats and their products, Meats, C...   \n",
       "3                Non food products,Open Beauty Facts   \n",
       "4                                         en:shampoo   \n",
       "\n",
       "                                              labels packaging  \\\n",
       "0                                               None   Plastic   \n",
       "1  100% naturel, en:no-alcohol, Sans colorants, e...    Flacon   \n",
       "2                  Organic, No GMOs, Non GMO project      None   \n",
       "3                   Organic,Green Dot,Made in France             \n",
       "4                                               None      None   \n",
       "\n",
       "  nutriscore_grade ecoscore_grade  \\\n",
       "0             None           None   \n",
       "1             None           None   \n",
       "2                c              e   \n",
       "3   not-applicable        unknown   \n",
       "4             None        unknown   \n",
       "\n",
       "                                                 url  \n",
       "0  https://world.openbeautyfacts.org/product/5060...  \n",
       "1  https://world.openbeautyfacts.org/product/3760...  \n",
       "2  https://world.openbeautyfacts.org/product/0000...  \n",
       "3  https://world.openbeautyfacts.org/product/3468...  \n",
       "4  https://world.openbeautyfacts.org/product/5029...  "
      ]
     },
     "execution_count": 4,
     "metadata": {},
     "output_type": "execute_result"
    }
   ],
   "source": [
    "openbeautyfacts_raw_df=pd.read_sql('SELECT * FROM openbeautyfacts_raw;', con)\n",
    "openbeautyfacts_raw_df.head(5)"
   ]
  },
  {
   "cell_type": "code",
   "execution_count": 20,
   "id": "b127ec31",
   "metadata": {},
   "outputs": [
    {
     "data": {
      "text/plain": [
       "array([list(['roll on']),\n",
       "       list(['en:plant', 'based', 'foods', 'and', 'beverages', 'en:plant', 'based', 'foods', 'en:groceries', 'en:breakfasts', 'en:condiments', 'en:spreads', 'en:nuts', 'and', 'their', 'products', 'en:sweet', 'spreads', 'en:bee', 'products', 'en:farming', 'products', 'en:nuts', 'en:spices', 'en:sweeteners', 'en:honeys', 'en:almonds', 'en:vanilla', 'en:vanilla', 'extract', 'en:acide hyaluronique', 'en:beauty care', 'en:biosilk', 'en:cure soyeuse', 'en:extract organic of lys royal', 'en:hairstyling', 'en:jasmine', 'en:patchouli', 'en:silk therapy', 'beauty', 'body', 'bodybuilding', 'bodycare', 'care', 'cheveux', 'corps', 'fragrance', 'hair', 'haircare', 'hairdresser', 'hairtherapy', 'jasmine', 'manucure', 'naturel', 'oil', 'patchouli', 'plants', 'royalsilk', 'serum', 'skincare', 'soin', 'therapy', 'coiffant', 'coiffure', 'curesoyeuse', 'défrisant', 'lissage', 'massage', 'soieroyale']),\n",
       "       list(['condiments', 'meats and their products', 'meats', 'chicken and its products', 'poultries', 'sauces', 'chickens', 'pizza sauces', 'shampoos', 'open beauty facts']),\n",
       "       list(['non food products', 'open beauty facts']),\n",
       "       list(['en:shampoo']), list(['savon solide']),\n",
       "       list(['non food products', 'open beauty facts', 'shampoos']),\n",
       "       list(['non food products', 'open beauty facts', 'shampoos']),\n",
       "       list(['shampoos']),\n",
       "       list(['non food products', 'open beauty facts', '98% plant & naturally derived ingredients', 'cruelty', 'free', 'shampoos']),\n",
       "       list(['non food products', 'open beauty facts', 'nb:shampoo', 'shampoos']),\n",
       "       list(['unknown']), list(['shampoo']),\n",
       "       list(['shampoo', 'shampoos', 'open beauty facts']),\n",
       "       list(['non food products', 'open beauty facts', 'shampoos']),\n",
       "       list(['shampoo', 'en:open', 'beauty', 'facts']), list(['shampoo']),\n",
       "       list(['en:open', 'beauty', 'facts']), list(['shampoos']),\n",
       "       list(['anti', 'dandruff shampoos', 'shampoos', 'natural extract shampoos']),\n",
       "       list(['cuidados com os cabelos']), list(['shampoos']), list([]),\n",
       "       list(['non food products', 'it:shampoo', 'en:open', 'beauty', 'facts']),\n",
       "       list(['shampoos']), list(['shampoos']),\n",
       "       list(['shampoings anti', 'pelliculaires', 'cheveux', 'shampoings', 'shampooings aux extraits naturels']),\n",
       "       list(['unknown']),\n",
       "       list(['hair', 'hygiene', 'shampoos', 'showers and baths', '2', 'in', '1 shampoos', 'shampoos + shower gels', 'shower gels']),\n",
       "       list(['hair', 'shampoos']), list(['unknown']),\n",
       "       list(['non food products', 'open beauty facts', 'cosmetic products']),\n",
       "       list(['non food products', 'open beauty facts', 'fr:crème hydratante', 'cosmetic products']),\n",
       "       list(['non food products', 'open beauty facts', 'cosmetic products']),\n",
       "       list(['non food products', 'open beauty facts', 'cosmetic products']),\n",
       "       list(['hygiène', 'douches et bains', 'gels douche']),\n",
       "       list(['non food products', 'open beauty facts', 'fi:hammastahna', 'cosmetic products']),\n",
       "       list(['non food products', 'open beauty facts', 'cosmetic products']),\n",
       "       list(['crème hydratante']),\n",
       "       list(['non food products', 'open beauty facts', 'fr:deodorant', 'cosmetic products']),\n",
       "       list(['non food products', 'open beauty facts', 'cosmetic products']),\n",
       "       list(['dairies', 'creams', 'non food products', 'open beauty facts', 'cosmetic products']),\n",
       "       list(['non food products', 'open beauty facts', 'cosmetic products']),\n",
       "       list(['non alimentaire', 'soins']),\n",
       "       list(['non food products', 'open beauty facts', 'cosmetic products']),\n",
       "       list(['non food products', 'open beauty facts', 'cosmetic products']),\n",
       "       list(['en:gel douche']),\n",
       "       list(['corps', 'cosmetic', 'non', 'food', 'products']),\n",
       "       list(['non food products', 'open beauty facts', 'fr:cosmétique', 'cosmetic products']),\n",
       "       list(['non food products', 'open beauty facts', 'cosmetic products']),\n",
       "       list(['non food products', 'open beauty facts', 'fr:deodorant', 'cosmetic products']),\n",
       "       list(['non food products', 'open beauty facts', 'cosmetic products']),\n",
       "       list(['non food products', 'open beauty facts', 'cosmetic products']),\n",
       "       list(['non food products', 'open beauty facts', 'cosmetic products']),\n",
       "       list(['non food products', 'open beauty facts', 'cosmetic products']),\n",
       "       list(['non food products', 'open beauty facts', 'cosmetic products']),\n",
       "       list(['non food products', 'open beauty facts', 'cosmetic products']),\n",
       "       list(['non food products', 'open beauty facts', 'cosmetic products']),\n",
       "       list(['cocoa and its products', 'non food products', 'open beauty facts', 'cosmetic products']),\n",
       "       list(['non food products', 'open beauty facts', 'cosmetic products']),\n",
       "       list(['non food products', 'open beauty facts', 'cosmetic products']),\n",
       "       list(['non food products', 'open beauty facts', 'cosmetic products']),\n",
       "       list(['non food products', 'open beauty facts', 'cosmetic products']),\n",
       "       list(['non food products', 'open beauty facts', 'cosmetic products']),\n",
       "       list(['non food products', 'open beauty facts', 'cosmetic products']),\n",
       "       list(['non food products', 'open beauty facts', 'cosmetic products']),\n",
       "       list(['non food products', 'open beauty facts', 'cosmetic products']),\n",
       "       list(['non food products', 'open beauty facts', 'cosmetic products']),\n",
       "       list(['non food products', 'open beauty facts', 'cosmetic products']),\n",
       "       list(['non food products', 'open beauty facts', 'cosmetic products']),\n",
       "       list(['non food products', 'open beauty facts', 'cosmetic products']),\n",
       "       list(['non food products', 'open beauty facts', 'cosmetic products']),\n",
       "       list(['non food products', 'open beauty facts', 'cosmetic products']),\n",
       "       list(['non food products', 'open beauty facts', 'natural', 'organic', 'skincare', 'natural', 'unscented', 'lip', 'balm', 'cosmetics & lip care']),\n",
       "       list(['non food products', 'open beauty facts', 'cosmetic products']),\n",
       "       list(['beverages and beverages preparations', 'plant', 'based foods and beverages', 'beverages', 'hot beverages', 'plant', 'based beverages', 'non food products', 'teas', 'open beauty facts', 'cosmetic products']),\n",
       "       list(['non food products', 'open beauty facts', 'beauty', 'cosmetic products']),\n",
       "       list(['non food products', 'open beauty facts', 'cosmetic products']),\n",
       "       list(['non food products', 'open beauty facts', 'cosmetic products']),\n",
       "       list(['plant', 'based foods and beverages', 'plant', 'based foods', 'fats', 'vegetable fats', 'non food products', 'vegetable oils', 'open beauty facts', 'cosmetic products']),\n",
       "       list(['plant', 'based foods and beverages', 'plant', 'based foods', 'fats', 'vegetable fats', 'non food products', 'vegetable oils', 'fruit and fruit seed oils', 'coconut oils', 'open beauty facts', 'cosmetic products'])],\n",
       "      dtype=object)"
      ]
     },
     "execution_count": 20,
     "metadata": {},
     "output_type": "execute_result"
    }
   ],
   "source": [
    "openbeautyfacts_raw_df['categories'].values"
   ]
  },
  {
   "cell_type": "code",
   "execution_count": null,
   "id": "92f5beca",
   "metadata": {},
   "outputs": [],
   "source": [
    "openbeautyfacts_raw_df['categories']= openbeautyfacts_raw_df['categories'].str.lower().str.replace(r\"[>\\-;|/\\\\]\", \",\", regex=True).str.split(',').apply(lambda cat: [i.strip() for i in cat if i.strip()] if isinstance(cat, list) else [])"
   ]
  },
  {
   "cell_type": "code",
   "execution_count": null,
   "id": "c8414e6b",
   "metadata": {},
   "outputs": [],
   "source": []
  },
  {
   "cell_type": "code",
   "execution_count": null,
   "id": "09e8962a",
   "metadata": {},
   "outputs": [],
   "source": []
  },
  {
   "cell_type": "code",
   "execution_count": 6,
   "id": "4900bd56",
   "metadata": {},
   "outputs": [
    {
     "data": {
      "text/plain": [
       "product_name         2.469136\n",
       "brand                3.703704\n",
       "categories           1.234568\n",
       "labels               6.172840\n",
       "packaging           35.802469\n",
       "nutriscore_grade     0.000000\n",
       "ecoscore_grade       0.000000\n",
       "url                  0.000000\n",
       "dtype: float64"
      ]
     },
     "execution_count": 6,
     "metadata": {},
     "output_type": "execute_result"
    }
   ],
   "source": [
    "openfoodfacts_raw_df.isnull().sum()/openbeautyfacts_raw_df.shape[0]*100"
   ]
  },
  {
   "cell_type": "code",
   "execution_count": 7,
   "id": "6fac3e6e",
   "metadata": {},
   "outputs": [],
   "source": [
    "openfoodfacts_raw_df=openfoodfacts_raw_df.dropna(subset=['product_name','url'],axis=0)"
   ]
  },
  {
   "cell_type": "code",
   "execution_count": 8,
   "id": "e16c8b13",
   "metadata": {},
   "outputs": [],
   "source": [
    "openfoodfacts_raw_df[['brand','categories','labels','packaging','ecoscore_grade', 'nutriscore_grade']]=openfoodfacts_raw_df[['brand','categories','labels','packaging','ecoscore_grade', 'nutriscore_grade']].fillna('unknown',axis=0)"
   ]
  },
  {
   "cell_type": "code",
   "execution_count": 9,
   "id": "029eb187",
   "metadata": {},
   "outputs": [
    {
     "data": {
      "text/plain": [
       "product_name        0.0\n",
       "brand               0.0\n",
       "categories          0.0\n",
       "labels              0.0\n",
       "packaging           0.0\n",
       "nutriscore_grade    0.0\n",
       "ecoscore_grade      0.0\n",
       "url                 0.0\n",
       "dtype: float64"
      ]
     },
     "execution_count": 9,
     "metadata": {},
     "output_type": "execute_result"
    }
   ],
   "source": [
    "openfoodfacts_raw_df.isnull().sum()/openbeautyfacts_raw_df.shape[0]*100"
   ]
  },
  {
   "cell_type": "code",
   "execution_count": 10,
   "id": "5ffc2a93",
   "metadata": {},
   "outputs": [
    {
     "data": {
      "text/plain": [
       "product_name        24.691358\n",
       "brand               22.222222\n",
       "categories           3.703704\n",
       "labels              11.111111\n",
       "packaging           59.259259\n",
       "nutriscore_grade    24.691358\n",
       "ecoscore_grade      20.987654\n",
       "url                  0.000000\n",
       "dtype: float64"
      ]
     },
     "execution_count": 10,
     "metadata": {},
     "output_type": "execute_result"
    }
   ],
   "source": [
    "openbeautyfacts_raw_df.isnull().sum()/openbeautyfacts_raw_df.shape[0]*100"
   ]
  },
  {
   "cell_type": "code",
   "execution_count": 11,
   "id": "ec8c17c9",
   "metadata": {},
   "outputs": [],
   "source": [
    "openbeautyfacts_raw_df=openbeautyfacts_raw_df.drop('nutriscore_grade', axis=1)"
   ]
  },
  {
   "cell_type": "code",
   "execution_count": 12,
   "id": "795f3a45",
   "metadata": {},
   "outputs": [],
   "source": [
    "openbeautyfacts_raw_df[['brand','categories','labels','packaging','ecoscore_grade']]=openbeautyfacts_raw_df[['brand','categories','labels','packaging','ecoscore_grade']].fillna('unknown',axis=0)"
   ]
  },
  {
   "cell_type": "code",
   "execution_count": 13,
   "id": "97bdfb5c",
   "metadata": {},
   "outputs": [
    {
     "data": {
      "text/plain": [
       "product_name      24.691358\n",
       "brand              0.000000\n",
       "categories         0.000000\n",
       "labels             0.000000\n",
       "packaging          0.000000\n",
       "ecoscore_grade     0.000000\n",
       "url                0.000000\n",
       "dtype: float64"
      ]
     },
     "execution_count": 13,
     "metadata": {},
     "output_type": "execute_result"
    }
   ],
   "source": [
    "openbeautyfacts_raw_df.isnull().sum()/openbeautyfacts_raw_df.shape[0]*100"
   ]
  },
  {
   "cell_type": "code",
   "execution_count": 14,
   "id": "e9b1bf66",
   "metadata": {},
   "outputs": [
    {
     "data": {
      "text/plain": [
       "Index(['product_name', 'brand', 'categories', 'labels', 'packaging',\n",
       "       'ecoscore_grade', 'url'],\n",
       "      dtype='object')"
      ]
     },
     "execution_count": 14,
     "metadata": {},
     "output_type": "execute_result"
    }
   ],
   "source": [
    "openbeautyfacts_raw_df.columns"
   ]
  },
  {
   "cell_type": "code",
   "execution_count": 15,
   "id": "2d0d4f7a",
   "metadata": {},
   "outputs": [
    {
     "data": {
      "text/plain": [
       "np.int64(19)"
      ]
     },
     "execution_count": 15,
     "metadata": {},
     "output_type": "execute_result"
    }
   ],
   "source": [
    "openbeautyfacts_raw_df.duplicated(subset=['product_name', 'brand']).sum()"
   ]
  },
  {
   "cell_type": "code",
   "execution_count": 16,
   "id": "5a076c3c",
   "metadata": {},
   "outputs": [
    {
     "data": {
      "text/plain": [
       "np.int64(6)"
      ]
     },
     "execution_count": 16,
     "metadata": {},
     "output_type": "execute_result"
    }
   ],
   "source": [
    "openfoodfacts_raw_df.duplicated(subset=['product_name', 'brand']).sum()"
   ]
  },
  {
   "cell_type": "code",
   "execution_count": null,
   "id": "bee66310",
   "metadata": {},
   "outputs": [],
   "source": []
  }
 ],
 "metadata": {
  "kernelspec": {
   "display_name": "eco-product-demand-forecast (3.12.4)",
   "language": "python",
   "name": "python3"
  },
  "language_info": {
   "codemirror_mode": {
    "name": "ipython",
    "version": 3
   },
   "file_extension": ".py",
   "mimetype": "text/x-python",
   "name": "python",
   "nbconvert_exporter": "python",
   "pygments_lexer": "ipython3",
   "version": "3.12.4"
  }
 },
 "nbformat": 4,
 "nbformat_minor": 5
}
