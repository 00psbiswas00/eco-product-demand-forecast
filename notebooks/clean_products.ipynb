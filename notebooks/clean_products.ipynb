{
 "cells": [
  {
   "cell_type": "code",
   "execution_count": 1,
   "id": "108e4443",
   "metadata": {},
   "outputs": [],
   "source": [
    "import pandas as pd\n",
    "import sqlite3"
   ]
  },
  {
   "cell_type": "code",
   "execution_count": 9,
   "id": "898c45aa",
   "metadata": {},
   "outputs": [],
   "source": [
    "con= sqlite3.connect('../data/processed/eco_products.db')\n"
   ]
  },
  {
   "cell_type": "code",
   "execution_count": 10,
   "id": "0ff9f471",
   "metadata": {},
   "outputs": [
    {
     "data": {
      "text/html": [
       "<div>\n",
       "<style scoped>\n",
       "    .dataframe tbody tr th:only-of-type {\n",
       "        vertical-align: middle;\n",
       "    }\n",
       "\n",
       "    .dataframe tbody tr th {\n",
       "        vertical-align: top;\n",
       "    }\n",
       "\n",
       "    .dataframe thead th {\n",
       "        text-align: right;\n",
       "    }\n",
       "</style>\n",
       "<table border=\"1\" class=\"dataframe\">\n",
       "  <thead>\n",
       "    <tr style=\"text-align: right;\">\n",
       "      <th></th>\n",
       "      <th>product_name</th>\n",
       "      <th>brand</th>\n",
       "      <th>categories</th>\n",
       "      <th>labels</th>\n",
       "      <th>packaging</th>\n",
       "      <th>nutriscore_grade</th>\n",
       "      <th>ecoscore_grade</th>\n",
       "      <th>url</th>\n",
       "      <th>sustainability_tags</th>\n",
       "      <th>has_sustainability_tag</th>\n",
       "    </tr>\n",
       "  </thead>\n",
       "  <tbody>\n",
       "    <tr>\n",
       "      <th>0</th>\n",
       "      <td>Noir equitable 85% Pérou</td>\n",
       "      <td>Alter Eco</td>\n",
       "      <td>cacao et dérivés, chocolats noirs, chocolats n...</td>\n",
       "      <td>commerce équitable, bio, bio européen, fairtra...</td>\n",
       "      <td>métal, métaux recyclables, aluminium, carton, ...</td>\n",
       "      <td>d</td>\n",
       "      <td>c</td>\n",
       "      <td>https://world.openfoodfacts.org/product/370021...</td>\n",
       "      <td>organic, fairtrade, recycled</td>\n",
       "      <td>1</td>\n",
       "    </tr>\n",
       "    <tr>\n",
       "      <th>1</th>\n",
       "      <td>Chocolat noir Pérou 90%</td>\n",
       "      <td>Alter Eco</td>\n",
       "      <td>cacao et dérivés, chocolats, chocolats noirs, ...</td>\n",
       "      <td>commerce équitable, bio, bio européen, agricul...</td>\n",
       "      <td>cartonnage, recyclable aluminium</td>\n",
       "      <td>d</td>\n",
       "      <td>c</td>\n",
       "      <td>https://world.openfoodfacts.org/product/370021...</td>\n",
       "      <td>organic, recycled</td>\n",
       "      <td>1</td>\n",
       "    </tr>\n",
       "    <tr>\n",
       "      <th>2</th>\n",
       "      <td>Chocolat noir 75% Pérou</td>\n",
       "      <td>Alter Eco</td>\n",
       "      <td>cacao et dérivés, chocolats noirs</td>\n",
       "      <td>commerce équitable, fairtrade international, c...</td>\n",
       "      <td>métal, recyclable metals, aluminium, carton, f...</td>\n",
       "      <td>d</td>\n",
       "      <td>c</td>\n",
       "      <td>https://world.openfoodfacts.org/product/370021...</td>\n",
       "      <td>organic, fairtrade, recycled</td>\n",
       "      <td>1</td>\n",
       "    </tr>\n",
       "    <tr>\n",
       "      <th>3</th>\n",
       "      <td>Sucre Cmplet Muscovado</td>\n",
       "      <td>Alter Eco</td>\n",
       "      <td>édulcorants, sucres, sucres roux, sucres de ca...</td>\n",
       "      <td>fair trade, organic, eu organic, fairtrade int...</td>\n",
       "      <td>plastic, bag, sachet en plastique</td>\n",
       "      <td>e</td>\n",
       "      <td>a</td>\n",
       "      <td>https://world.openfoodfacts.org/product/370021...</td>\n",
       "      <td>organic, fairtrade</td>\n",
       "      <td>1</td>\n",
       "    </tr>\n",
       "    <tr>\n",
       "      <th>4</th>\n",
       "      <td>Hazelnut Based Chocolate Spread</td>\n",
       "      <td>Alter Eco</td>\n",
       "      <td>petit, déjeuners, produits à tartiner, produit...</td>\n",
       "      <td>fair trade, organic, eu organic, fairtrade int...</td>\n",
       "      <td>vidrio</td>\n",
       "      <td>e</td>\n",
       "      <td>b</td>\n",
       "      <td>https://world.openfoodfacts.org/product/370021...</td>\n",
       "      <td>organic, fairtrade</td>\n",
       "      <td>1</td>\n",
       "    </tr>\n",
       "  </tbody>\n",
       "</table>\n",
       "</div>"
      ],
      "text/plain": [
       "                      product_name      brand  \\\n",
       "0         Noir equitable 85% Pérou  Alter Eco   \n",
       "1          Chocolat noir Pérou 90%  Alter Eco   \n",
       "2          Chocolat noir 75% Pérou  Alter Eco   \n",
       "3           Sucre Cmplet Muscovado  Alter Eco   \n",
       "4  Hazelnut Based Chocolate Spread  Alter Eco   \n",
       "\n",
       "                                          categories  \\\n",
       "0  cacao et dérivés, chocolats noirs, chocolats n...   \n",
       "1  cacao et dérivés, chocolats, chocolats noirs, ...   \n",
       "2                  cacao et dérivés, chocolats noirs   \n",
       "3  édulcorants, sucres, sucres roux, sucres de ca...   \n",
       "4  petit, déjeuners, produits à tartiner, produit...   \n",
       "\n",
       "                                              labels  \\\n",
       "0  commerce équitable, bio, bio européen, fairtra...   \n",
       "1  commerce équitable, bio, bio européen, agricul...   \n",
       "2  commerce équitable, fairtrade international, c...   \n",
       "3  fair trade, organic, eu organic, fairtrade int...   \n",
       "4  fair trade, organic, eu organic, fairtrade int...   \n",
       "\n",
       "                                           packaging nutriscore_grade  \\\n",
       "0  métal, métaux recyclables, aluminium, carton, ...                d   \n",
       "1                   cartonnage, recyclable aluminium                d   \n",
       "2  métal, recyclable metals, aluminium, carton, f...                d   \n",
       "3                  plastic, bag, sachet en plastique                e   \n",
       "4                                             vidrio                e   \n",
       "\n",
       "  ecoscore_grade                                                url  \\\n",
       "0              c  https://world.openfoodfacts.org/product/370021...   \n",
       "1              c  https://world.openfoodfacts.org/product/370021...   \n",
       "2              c  https://world.openfoodfacts.org/product/370021...   \n",
       "3              a  https://world.openfoodfacts.org/product/370021...   \n",
       "4              b  https://world.openfoodfacts.org/product/370021...   \n",
       "\n",
       "            sustainability_tags  has_sustainability_tag  \n",
       "0  organic, fairtrade, recycled                       1  \n",
       "1             organic, recycled                       1  \n",
       "2  organic, fairtrade, recycled                       1  \n",
       "3            organic, fairtrade                       1  \n",
       "4            organic, fairtrade                       1  "
      ]
     },
     "execution_count": 10,
     "metadata": {},
     "output_type": "execute_result"
    }
   ],
   "source": [
    "openfoodfacts_raw_df=pd.read_sql('SELECT * FROM openfoodfacts_processed;', con)\n",
    "openfoodfacts_raw_df.head(5)"
   ]
  },
  {
   "cell_type": "code",
   "execution_count": 11,
   "id": "8faf423d",
   "metadata": {},
   "outputs": [
    {
     "data": {
      "text/html": [
       "<div>\n",
       "<style scoped>\n",
       "    .dataframe tbody tr th:only-of-type {\n",
       "        vertical-align: middle;\n",
       "    }\n",
       "\n",
       "    .dataframe tbody tr th {\n",
       "        vertical-align: top;\n",
       "    }\n",
       "\n",
       "    .dataframe thead th {\n",
       "        text-align: right;\n",
       "    }\n",
       "</style>\n",
       "<table border=\"1\" class=\"dataframe\">\n",
       "  <thead>\n",
       "    <tr style=\"text-align: right;\">\n",
       "      <th></th>\n",
       "      <th>product_name</th>\n",
       "      <th>brand</th>\n",
       "      <th>categories</th>\n",
       "      <th>labels</th>\n",
       "      <th>packaging</th>\n",
       "      <th>nutriscore_grade</th>\n",
       "      <th>ecoscore_grade</th>\n",
       "      <th>url</th>\n",
       "      <th>sustainability_tags</th>\n",
       "      <th>has_sustainability_tag</th>\n",
       "    </tr>\n",
       "  </thead>\n",
       "  <tbody>\n",
       "    <tr>\n",
       "      <th>0</th>\n",
       "      <td>Mielle Organics Rosemary Mint Scalp and Hair S...</td>\n",
       "      <td>Mielle,Mielle Organics</td>\n",
       "      <td>non food products, open beauty facts, cosmetic...</td>\n",
       "      <td>unknown</td>\n",
       "      <td>unknown</td>\n",
       "      <td>unknown</td>\n",
       "      <td>unknown</td>\n",
       "      <td>https://world.openbeautyfacts.org/product/0850...</td>\n",
       "      <td></td>\n",
       "      <td>0</td>\n",
       "    </tr>\n",
       "    <tr>\n",
       "      <th>1</th>\n",
       "      <td>Douche crème surgras â l'huile de karité</td>\n",
       "      <td>Léa nature</td>\n",
       "      <td>hygiène, douches et bains, gels douche</td>\n",
       "      <td>bio, testé dermatologiquement, sans sulfates, ...</td>\n",
       "      <td>plastique, bouteille</td>\n",
       "      <td>unknown</td>\n",
       "      <td>unknown</td>\n",
       "      <td>https://world.openbeautyfacts.org/product/3517...</td>\n",
       "      <td>organic</td>\n",
       "      <td>1</td>\n",
       "    </tr>\n",
       "    <tr>\n",
       "      <th>2</th>\n",
       "      <td>Urtekram luomu valkaiseva hammastahna Fresh Mi...</td>\n",
       "      <td>Urtekram</td>\n",
       "      <td>non food products, open beauty facts, hammasta...</td>\n",
       "      <td>organic, vegetarian, vegan, the, vegan, society</td>\n",
       "      <td>unknown</td>\n",
       "      <td>unknown</td>\n",
       "      <td>unknown</td>\n",
       "      <td>https://world.openbeautyfacts.org/product/5765...</td>\n",
       "      <td>organic, vegan</td>\n",
       "      <td>1</td>\n",
       "    </tr>\n",
       "    <tr>\n",
       "      <th>3</th>\n",
       "      <td>Boro Plus Organic Aloe Vera Gel</td>\n",
       "      <td>Boro Plus</td>\n",
       "      <td>non food products, open beauty facts, cosmetic...</td>\n",
       "      <td>unknown</td>\n",
       "      <td>unknown</td>\n",
       "      <td>unknown</td>\n",
       "      <td>unknown</td>\n",
       "      <td>https://world.openbeautyfacts.org/product/8901...</td>\n",
       "      <td></td>\n",
       "      <td>0</td>\n",
       "    </tr>\n",
       "    <tr>\n",
       "      <th>4</th>\n",
       "      <td>Concentré coco nourrissant</td>\n",
       "      <td>Lea Nature</td>\n",
       "      <td>crème hydratante</td>\n",
       "      <td>bio, organic cosmetic</td>\n",
       "      <td>plastique</td>\n",
       "      <td>unknown</td>\n",
       "      <td>unknown</td>\n",
       "      <td>https://world.openbeautyfacts.org/product/3517...</td>\n",
       "      <td>organic</td>\n",
       "      <td>1</td>\n",
       "    </tr>\n",
       "  </tbody>\n",
       "</table>\n",
       "</div>"
      ],
      "text/plain": [
       "                                        product_name                   brand  \\\n",
       "0  Mielle Organics Rosemary Mint Scalp and Hair S...  Mielle,Mielle Organics   \n",
       "1           Douche crème surgras â l'huile de karité              Léa nature   \n",
       "2  Urtekram luomu valkaiseva hammastahna Fresh Mi...                Urtekram   \n",
       "3                    Boro Plus Organic Aloe Vera Gel               Boro Plus   \n",
       "4                         Concentré coco nourrissant              Lea Nature   \n",
       "\n",
       "                                          categories  \\\n",
       "0  non food products, open beauty facts, cosmetic...   \n",
       "1             hygiène, douches et bains, gels douche   \n",
       "2  non food products, open beauty facts, hammasta...   \n",
       "3  non food products, open beauty facts, cosmetic...   \n",
       "4                                   crème hydratante   \n",
       "\n",
       "                                              labels             packaging  \\\n",
       "0                                            unknown               unknown   \n",
       "1  bio, testé dermatologiquement, sans sulfates, ...  plastique, bouteille   \n",
       "2    organic, vegetarian, vegan, the, vegan, society               unknown   \n",
       "3                                            unknown               unknown   \n",
       "4                              bio, organic cosmetic             plastique   \n",
       "\n",
       "  nutriscore_grade ecoscore_grade  \\\n",
       "0          unknown        unknown   \n",
       "1          unknown        unknown   \n",
       "2          unknown        unknown   \n",
       "3          unknown        unknown   \n",
       "4          unknown        unknown   \n",
       "\n",
       "                                                 url sustainability_tags  \\\n",
       "0  https://world.openbeautyfacts.org/product/0850...                       \n",
       "1  https://world.openbeautyfacts.org/product/3517...             organic   \n",
       "2  https://world.openbeautyfacts.org/product/5765...      organic, vegan   \n",
       "3  https://world.openbeautyfacts.org/product/8901...                       \n",
       "4  https://world.openbeautyfacts.org/product/3517...             organic   \n",
       "\n",
       "   has_sustainability_tag  \n",
       "0                       0  \n",
       "1                       1  \n",
       "2                       1  \n",
       "3                       0  \n",
       "4                       1  "
      ]
     },
     "execution_count": 11,
     "metadata": {},
     "output_type": "execute_result"
    }
   ],
   "source": [
    "openbeautyfacts_raw_df=pd.read_sql('SELECT * FROM openbeautyfacts_processed;', con)\n",
    "openbeautyfacts_raw_df.head(5)"
   ]
  },
  {
   "cell_type": "code",
   "execution_count": 12,
   "id": "4518dada",
   "metadata": {},
   "outputs": [
    {
     "data": {
      "text/html": [
       "<div>\n",
       "<style scoped>\n",
       "    .dataframe tbody tr th:only-of-type {\n",
       "        vertical-align: middle;\n",
       "    }\n",
       "\n",
       "    .dataframe tbody tr th {\n",
       "        vertical-align: top;\n",
       "    }\n",
       "\n",
       "    .dataframe thead th {\n",
       "        text-align: right;\n",
       "    }\n",
       "</style>\n",
       "<table border=\"1\" class=\"dataframe\">\n",
       "  <thead>\n",
       "    <tr style=\"text-align: right;\">\n",
       "      <th></th>\n",
       "      <th>brand</th>\n",
       "      <th>sustainability_tags</th>\n",
       "    </tr>\n",
       "  </thead>\n",
       "  <tbody>\n",
       "    <tr>\n",
       "      <th>0</th>\n",
       "      <td>Mielle,Mielle Organics</td>\n",
       "      <td></td>\n",
       "    </tr>\n",
       "    <tr>\n",
       "      <th>1</th>\n",
       "      <td>Léa nature</td>\n",
       "      <td>organic</td>\n",
       "    </tr>\n",
       "    <tr>\n",
       "      <th>2</th>\n",
       "      <td>Urtekram</td>\n",
       "      <td>organic, vegan</td>\n",
       "    </tr>\n",
       "    <tr>\n",
       "      <th>3</th>\n",
       "      <td>Boro Plus</td>\n",
       "      <td></td>\n",
       "    </tr>\n",
       "    <tr>\n",
       "      <th>4</th>\n",
       "      <td>Lea Nature</td>\n",
       "      <td>organic</td>\n",
       "    </tr>\n",
       "    <tr>\n",
       "      <th>5</th>\n",
       "      <td>Fleurance Nature</td>\n",
       "      <td></td>\n",
       "    </tr>\n",
       "    <tr>\n",
       "      <th>6</th>\n",
       "      <td>So'Bio</td>\n",
       "      <td>organic</td>\n",
       "    </tr>\n",
       "    <tr>\n",
       "      <th>7</th>\n",
       "      <td>Léa Nature ki</td>\n",
       "      <td>organic</td>\n",
       "    </tr>\n",
       "    <tr>\n",
       "      <th>8</th>\n",
       "      <td>Douce Nature</td>\n",
       "      <td>organic, fairtrade</td>\n",
       "    </tr>\n",
       "    <tr>\n",
       "      <th>9</th>\n",
       "      <td>So Good So You</td>\n",
       "      <td>organic</td>\n",
       "    </tr>\n",
       "    <tr>\n",
       "      <th>10</th>\n",
       "      <td>Les Secrets de Loly</td>\n",
       "      <td>organic</td>\n",
       "    </tr>\n",
       "    <tr>\n",
       "      <th>11</th>\n",
       "      <td>Dr. Bronner's</td>\n",
       "      <td>organic, fairtrade</td>\n",
       "    </tr>\n",
       "    <tr>\n",
       "      <th>12</th>\n",
       "      <td>Cien Nature</td>\n",
       "      <td>vegan</td>\n",
       "    </tr>\n",
       "    <tr>\n",
       "      <th>13</th>\n",
       "      <td>Dr organic</td>\n",
       "      <td></td>\n",
       "    </tr>\n",
       "    <tr>\n",
       "      <th>14</th>\n",
       "      <td>organic shop</td>\n",
       "      <td></td>\n",
       "    </tr>\n",
       "    <tr>\n",
       "      <th>15</th>\n",
       "      <td>JONZAC</td>\n",
       "      <td>organic</td>\n",
       "    </tr>\n",
       "    <tr>\n",
       "      <th>16</th>\n",
       "      <td>SmartyPants</td>\n",
       "      <td>organic</td>\n",
       "    </tr>\n",
       "    <tr>\n",
       "      <th>17</th>\n",
       "      <td>Dr. Bronner's</td>\n",
       "      <td>organic, fairtrade</td>\n",
       "    </tr>\n",
       "    <tr>\n",
       "      <th>18</th>\n",
       "      <td>Trader Joe’s</td>\n",
       "      <td>organic</td>\n",
       "    </tr>\n",
       "    <tr>\n",
       "      <th>19</th>\n",
       "      <td>SmartyPants</td>\n",
       "      <td>organic</td>\n",
       "    </tr>\n",
       "    <tr>\n",
       "      <th>20</th>\n",
       "      <td>Portland Bee Balm</td>\n",
       "      <td>organic</td>\n",
       "    </tr>\n",
       "    <tr>\n",
       "      <th>21</th>\n",
       "      <td>Traditional Medicinals</td>\n",
       "      <td>organic</td>\n",
       "    </tr>\n",
       "    <tr>\n",
       "      <th>22</th>\n",
       "      <td>jojoba oil</td>\n",
       "      <td>organic</td>\n",
       "    </tr>\n",
       "    <tr>\n",
       "      <th>23</th>\n",
       "      <td>Pipkin</td>\n",
       "      <td>organic</td>\n",
       "    </tr>\n",
       "  </tbody>\n",
       "</table>\n",
       "</div>"
      ],
      "text/plain": [
       "                     brand sustainability_tags\n",
       "0   Mielle,Mielle Organics                    \n",
       "1               Léa nature             organic\n",
       "2                 Urtekram      organic, vegan\n",
       "3                Boro Plus                    \n",
       "4               Lea Nature             organic\n",
       "5         Fleurance Nature                    \n",
       "6                   So'Bio             organic\n",
       "7            Léa Nature ki             organic\n",
       "8             Douce Nature  organic, fairtrade\n",
       "9           So Good So You             organic\n",
       "10     Les Secrets de Loly             organic\n",
       "11           Dr. Bronner's  organic, fairtrade\n",
       "12             Cien Nature               vegan\n",
       "13              Dr organic                    \n",
       "14            organic shop                    \n",
       "15                  JONZAC             organic\n",
       "16             SmartyPants             organic\n",
       "17           Dr. Bronner's  organic, fairtrade\n",
       "18            Trader Joe’s             organic\n",
       "19             SmartyPants             organic\n",
       "20       Portland Bee Balm             organic\n",
       "21  Traditional Medicinals             organic\n",
       "22              jojoba oil             organic\n",
       "23                  Pipkin             organic"
      ]
     },
     "execution_count": 12,
     "metadata": {},
     "output_type": "execute_result"
    }
   ],
   "source": [
    "openbeautyfacts_raw_df[['brand','sustainability_tags']]"
   ]
  },
  {
   "cell_type": "code",
   "execution_count": 40,
   "id": "89c8ab5a",
   "metadata": {},
   "outputs": [
    {
     "data": {
      "text/plain": [
       "product_name           0\n",
       "brand                  0\n",
       "categories             0\n",
       "labels                 0\n",
       "packaging              0\n",
       "nutriscore_grade       0\n",
       "ecoscore_grade         0\n",
       "url                    0\n",
       "sustainability_tags    0\n",
       "dtype: int64"
      ]
     },
     "execution_count": 40,
     "metadata": {},
     "output_type": "execute_result"
    }
   ],
   "source": [
    "openbeautyfacts_raw_df.isnull().sum()"
   ]
  },
  {
   "cell_type": "code",
   "execution_count": 16,
   "id": "b127ec31",
   "metadata": {},
   "outputs": [
    {
     "data": {
      "text/plain": [
       "array(['non food products, open beauty facts, cosmetic products',\n",
       "       'non food products, open beauty facts, cosmetic products',\n",
       "       'hygiène, douches et bains, gels douche',\n",
       "       'non food products, open beauty facts, fi:hammastahna, cosmetic products',\n",
       "       'non food products, open beauty facts, cosmetic products',\n",
       "       'crème hydratante',\n",
       "       'non food products, open beauty facts, cosmetic products',\n",
       "       'non food products, open beauty facts, cosmetic products',\n",
       "       'non alimentaire, soins',\n",
       "       'non food products, open beauty facts, cosmetic products',\n",
       "       'en:gel douche', 'corps, cosmetic, non, food, products',\n",
       "       'non food products, open beauty facts, fr:cosmétique, cosmetic products',\n",
       "       'non food products, open beauty facts, cosmetic products',\n",
       "       'non food products, open beauty facts, cosmetic products',\n",
       "       'non food products, open beauty facts, cosmetic products',\n",
       "       'non food products, open beauty facts, cosmetic products',\n",
       "       'non food products, open beauty facts, cosmetic products',\n",
       "       'non food products, open beauty facts, cosmetic products',\n",
       "       'cocoa and its products, non food products, open beauty facts, cosmetic products',\n",
       "       'non food products, open beauty facts, cosmetic products',\n",
       "       'non food products, open beauty facts, cosmetic products',\n",
       "       'non food products, open beauty facts, cosmetic products',\n",
       "       'non food products, open beauty facts, cosmetic products',\n",
       "       'non food products, open beauty facts, cosmetic products',\n",
       "       'non food products, open beauty facts, cosmetic products',\n",
       "       'non food products, open beauty facts, natural, organic, skincare, natural, unscented, lip, balm, cosmetics & lip care',\n",
       "       'beverages and beverages preparations, plant, based foods and beverages, beverages, hot beverages, plant, based beverages, non food products, teas, open beauty facts, cosmetic products',\n",
       "       'non food products, open beauty facts, cosmetic products',\n",
       "       'plant, based foods and beverages, plant, based foods, fats, vegetable fats, non food products, vegetable oils, open beauty facts, cosmetic products',\n",
       "       'plant, based foods and beverages, plant, based foods, fats, vegetable fats, non food products, vegetable oils, fruit and fruit seed oils, coconut oils, open beauty facts, cosmetic products'],\n",
       "      dtype=object)"
      ]
     },
     "execution_count": 16,
     "metadata": {},
     "output_type": "execute_result"
    }
   ],
   "source": [
    "openbeautyfacts_raw_df['categories'].values"
   ]
  },
  {
   "cell_type": "code",
   "execution_count": 17,
   "id": "92f5beca",
   "metadata": {},
   "outputs": [],
   "source": [
    "openbeautyfacts_raw_df['categories']= openbeautyfacts_raw_df['categories'].str.lower().str.replace(r\"[>\\-;|/\\\\]\", \",\", regex=True).str.split(',').apply(lambda cat: [i.strip() for i in cat if i.strip()] if isinstance(cat, list) else [])"
   ]
  },
  {
   "cell_type": "code",
   "execution_count": null,
   "id": "c8414e6b",
   "metadata": {},
   "outputs": [],
   "source": []
  },
  {
   "cell_type": "code",
   "execution_count": null,
   "id": "09e8962a",
   "metadata": {},
   "outputs": [],
   "source": []
  },
  {
   "cell_type": "code",
   "execution_count": 18,
   "id": "4900bd56",
   "metadata": {},
   "outputs": [
    {
     "data": {
      "text/plain": [
       "product_name           0.0\n",
       "brand                  0.0\n",
       "categories             0.0\n",
       "labels                 0.0\n",
       "packaging              0.0\n",
       "nutriscore_grade       0.0\n",
       "ecoscore_grade         0.0\n",
       "url                    0.0\n",
       "sustainability_tags    0.0\n",
       "dtype: float64"
      ]
     },
     "execution_count": 18,
     "metadata": {},
     "output_type": "execute_result"
    }
   ],
   "source": [
    "openfoodfacts_raw_df.isnull().sum()/openbeautyfacts_raw_df.shape[0]*100"
   ]
  },
  {
   "cell_type": "code",
   "execution_count": 19,
   "id": "6fac3e6e",
   "metadata": {},
   "outputs": [],
   "source": [
    "openfoodfacts_raw_df=openfoodfacts_raw_df.dropna(subset=['product_name','url'],axis=0)"
   ]
  },
  {
   "cell_type": "code",
   "execution_count": 20,
   "id": "e16c8b13",
   "metadata": {},
   "outputs": [],
   "source": [
    "openfoodfacts_raw_df[['brand','categories','labels','packaging','ecoscore_grade', 'nutriscore_grade']]=openfoodfacts_raw_df[['brand','categories','labels','packaging','ecoscore_grade', 'nutriscore_grade']].fillna('unknown',axis=0)"
   ]
  },
  {
   "cell_type": "code",
   "execution_count": 21,
   "id": "029eb187",
   "metadata": {},
   "outputs": [
    {
     "data": {
      "text/plain": [
       "product_name           0.0\n",
       "brand                  0.0\n",
       "categories             0.0\n",
       "labels                 0.0\n",
       "packaging              0.0\n",
       "nutriscore_grade       0.0\n",
       "ecoscore_grade         0.0\n",
       "url                    0.0\n",
       "sustainability_tags    0.0\n",
       "dtype: float64"
      ]
     },
     "execution_count": 21,
     "metadata": {},
     "output_type": "execute_result"
    }
   ],
   "source": [
    "openfoodfacts_raw_df.isnull().sum()/openbeautyfacts_raw_df.shape[0]*100"
   ]
  },
  {
   "cell_type": "code",
   "execution_count": 22,
   "id": "5ffc2a93",
   "metadata": {},
   "outputs": [
    {
     "data": {
      "text/plain": [
       "product_name           0.0\n",
       "brand                  0.0\n",
       "categories             0.0\n",
       "labels                 0.0\n",
       "packaging              0.0\n",
       "nutriscore_grade       0.0\n",
       "ecoscore_grade         0.0\n",
       "url                    0.0\n",
       "sustainability_tags    0.0\n",
       "dtype: float64"
      ]
     },
     "execution_count": 22,
     "metadata": {},
     "output_type": "execute_result"
    }
   ],
   "source": [
    "openbeautyfacts_raw_df.isnull().sum()/openbeautyfacts_raw_df.shape[0]*100"
   ]
  },
  {
   "cell_type": "code",
   "execution_count": 23,
   "id": "ec8c17c9",
   "metadata": {},
   "outputs": [],
   "source": [
    "openbeautyfacts_raw_df=openbeautyfacts_raw_df.drop('nutriscore_grade', axis=1)"
   ]
  },
  {
   "cell_type": "code",
   "execution_count": 24,
   "id": "795f3a45",
   "metadata": {},
   "outputs": [],
   "source": [
    "openbeautyfacts_raw_df[['brand','categories','labels','packaging','ecoscore_grade']]=openbeautyfacts_raw_df[['brand','categories','labels','packaging','ecoscore_grade']].fillna('unknown',axis=0)"
   ]
  },
  {
   "cell_type": "code",
   "execution_count": 25,
   "id": "97bdfb5c",
   "metadata": {},
   "outputs": [
    {
     "data": {
      "text/plain": [
       "product_name           0.0\n",
       "brand                  0.0\n",
       "categories             0.0\n",
       "labels                 0.0\n",
       "packaging              0.0\n",
       "ecoscore_grade         0.0\n",
       "url                    0.0\n",
       "sustainability_tags    0.0\n",
       "dtype: float64"
      ]
     },
     "execution_count": 25,
     "metadata": {},
     "output_type": "execute_result"
    }
   ],
   "source": [
    "openbeautyfacts_raw_df.isnull().sum()/openbeautyfacts_raw_df.shape[0]*100"
   ]
  },
  {
   "cell_type": "code",
   "execution_count": 26,
   "id": "e9b1bf66",
   "metadata": {},
   "outputs": [
    {
     "data": {
      "text/plain": [
       "Index(['product_name', 'brand', 'categories', 'labels', 'packaging',\n",
       "       'ecoscore_grade', 'url', 'sustainability_tags'],\n",
       "      dtype='object')"
      ]
     },
     "execution_count": 26,
     "metadata": {},
     "output_type": "execute_result"
    }
   ],
   "source": [
    "openbeautyfacts_raw_df.columns"
   ]
  },
  {
   "cell_type": "code",
   "execution_count": 27,
   "id": "2d0d4f7a",
   "metadata": {},
   "outputs": [
    {
     "data": {
      "text/plain": [
       "np.int64(2)"
      ]
     },
     "execution_count": 27,
     "metadata": {},
     "output_type": "execute_result"
    }
   ],
   "source": [
    "openbeautyfacts_raw_df.duplicated(subset=['product_name', 'brand']).sum()"
   ]
  },
  {
   "cell_type": "code",
   "execution_count": 28,
   "id": "5a076c3c",
   "metadata": {},
   "outputs": [
    {
     "data": {
      "text/plain": [
       "np.int64(0)"
      ]
     },
     "execution_count": 28,
     "metadata": {},
     "output_type": "execute_result"
    }
   ],
   "source": [
    "openfoodfacts_raw_df.duplicated(subset=['product_name', 'brand']).sum()"
   ]
  },
  {
   "cell_type": "code",
   "execution_count": null,
   "id": "bee66310",
   "metadata": {},
   "outputs": [],
   "source": []
  }
 ],
 "metadata": {
  "kernelspec": {
   "display_name": "eco-product-demand-forecast (3.12.4)",
   "language": "python",
   "name": "python3"
  },
  "language_info": {
   "codemirror_mode": {
    "name": "ipython",
    "version": 3
   },
   "file_extension": ".py",
   "mimetype": "text/x-python",
   "name": "python",
   "nbconvert_exporter": "python",
   "pygments_lexer": "ipython3",
   "version": "3.12.4"
  }
 },
 "nbformat": 4,
 "nbformat_minor": 5
}
