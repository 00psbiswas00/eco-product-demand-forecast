{
 "cells": [
  {
   "cell_type": "code",
   "execution_count": 10,
   "id": "89e73441",
   "metadata": {},
   "outputs": [
    {
     "data": {
      "text/html": [
       "<div>\n",
       "<style scoped>\n",
       "    .dataframe tbody tr th:only-of-type {\n",
       "        vertical-align: middle;\n",
       "    }\n",
       "\n",
       "    .dataframe tbody tr th {\n",
       "        vertical-align: top;\n",
       "    }\n",
       "\n",
       "    .dataframe thead th {\n",
       "        text-align: right;\n",
       "    }\n",
       "</style>\n",
       "<table border=\"1\" class=\"dataframe\">\n",
       "  <thead>\n",
       "    <tr style=\"text-align: right;\">\n",
       "      <th></th>\n",
       "      <th>product_name</th>\n",
       "      <th>brand</th>\n",
       "      <th>categories</th>\n",
       "      <th>labels</th>\n",
       "      <th>packaging</th>\n",
       "      <th>nutriscore_grade</th>\n",
       "      <th>ecoscore_grade</th>\n",
       "      <th>url</th>\n",
       "      <th>sustainability_tags</th>\n",
       "    </tr>\n",
       "  </thead>\n",
       "  <tbody>\n",
       "    <tr>\n",
       "      <th>0</th>\n",
       "      <td>Mielle Organics Rosemary Mint Scalp and Hair S...</td>\n",
       "      <td>Mielle,Mielle Organics</td>\n",
       "      <td>non food products, open beauty facts, cosmetic...</td>\n",
       "      <td></td>\n",
       "      <td>unknown</td>\n",
       "      <td>unknown</td>\n",
       "      <td>unknown</td>\n",
       "      <td>https://world.openbeautyfacts.org/product/0850...</td>\n",
       "      <td></td>\n",
       "    </tr>\n",
       "    <tr>\n",
       "      <th>1</th>\n",
       "      <td></td>\n",
       "      <td></td>\n",
       "      <td>non food products, open beauty facts, cosmetic...</td>\n",
       "      <td>Organic,Made in France</td>\n",
       "      <td>unknown</td>\n",
       "      <td>unknown</td>\n",
       "      <td>unknown</td>\n",
       "      <td>https://world.openbeautyfacts.org/product/3415...</td>\n",
       "      <td></td>\n",
       "    </tr>\n",
       "    <tr>\n",
       "      <th>2</th>\n",
       "      <td>Douche crème surgras â l'huile de karité</td>\n",
       "      <td>Léa nature</td>\n",
       "      <td>hygiène, douches et bains, gels douche</td>\n",
       "      <td>Bio, Testé dermatologiquement, Sans sulfates, ...</td>\n",
       "      <td>Plastique,Bouteille</td>\n",
       "      <td>unknown</td>\n",
       "      <td>unknown</td>\n",
       "      <td>https://world.openbeautyfacts.org/product/3517...</td>\n",
       "      <td>organic</td>\n",
       "    </tr>\n",
       "    <tr>\n",
       "      <th>3</th>\n",
       "      <td>Urtekram luomu valkaiseva hammastahna Fresh Mi...</td>\n",
       "      <td>Urtekram</td>\n",
       "      <td>non food products, open beauty facts, fi:hamma...</td>\n",
       "      <td>Organic, Vegetarian, Vegan, en:the-vegan-society</td>\n",
       "      <td>unknown</td>\n",
       "      <td>unknown</td>\n",
       "      <td>unknown</td>\n",
       "      <td>https://world.openbeautyfacts.org/product/5765...</td>\n",
       "      <td>vegan</td>\n",
       "    </tr>\n",
       "    <tr>\n",
       "      <th>4</th>\n",
       "      <td>Boro Plus Organic Aloe Vera Gel</td>\n",
       "      <td>Boro Plus</td>\n",
       "      <td>non food products, open beauty facts, cosmetic...</td>\n",
       "      <td></td>\n",
       "      <td>unknown</td>\n",
       "      <td>unknown</td>\n",
       "      <td>unknown</td>\n",
       "      <td>https://world.openbeautyfacts.org/product/8901...</td>\n",
       "      <td></td>\n",
       "    </tr>\n",
       "  </tbody>\n",
       "</table>\n",
       "</div>"
      ],
      "text/plain": [
       "                                        product_name                   brand  \\\n",
       "0  Mielle Organics Rosemary Mint Scalp and Hair S...  Mielle,Mielle Organics   \n",
       "1                                                                              \n",
       "2           Douche crème surgras â l'huile de karité              Léa nature   \n",
       "3  Urtekram luomu valkaiseva hammastahna Fresh Mi...                Urtekram   \n",
       "4                    Boro Plus Organic Aloe Vera Gel               Boro Plus   \n",
       "\n",
       "                                          categories  \\\n",
       "0  non food products, open beauty facts, cosmetic...   \n",
       "1  non food products, open beauty facts, cosmetic...   \n",
       "2             hygiène, douches et bains, gels douche   \n",
       "3  non food products, open beauty facts, fi:hamma...   \n",
       "4  non food products, open beauty facts, cosmetic...   \n",
       "\n",
       "                                              labels            packaging  \\\n",
       "0                                                                 unknown   \n",
       "1                             Organic,Made in France              unknown   \n",
       "2  Bio, Testé dermatologiquement, Sans sulfates, ...  Plastique,Bouteille   \n",
       "3   Organic, Vegetarian, Vegan, en:the-vegan-society              unknown   \n",
       "4                                                                 unknown   \n",
       "\n",
       "  nutriscore_grade ecoscore_grade  \\\n",
       "0          unknown        unknown   \n",
       "1          unknown        unknown   \n",
       "2          unknown        unknown   \n",
       "3          unknown        unknown   \n",
       "4          unknown        unknown   \n",
       "\n",
       "                                                 url sustainability_tags  \n",
       "0  https://world.openbeautyfacts.org/product/0850...                      \n",
       "1  https://world.openbeautyfacts.org/product/3415...                      \n",
       "2  https://world.openbeautyfacts.org/product/3517...             organic  \n",
       "3  https://world.openbeautyfacts.org/product/5765...               vegan  \n",
       "4  https://world.openbeautyfacts.org/product/8901...                      "
      ]
     },
     "execution_count": 10,
     "metadata": {},
     "output_type": "execute_result"
    }
   ],
   "source": [
    "import sqlite3\n",
    "import pandas as pd\n",
    "\n",
    "\n",
    "\n",
    "# Add the project root directory to sys.path\n",
    "\n",
    "# or\n",
    "# Connect to SQLite\n",
    "con = sqlite3.connect('../data/processed/eco_products.db')\n",
    "\n",
    "# Load processed beauty table\n",
    "df = pd.read_sql(f\"SELECT * FROM openbeautyfacts_processed\", con)\n",
    "con.close()\n",
    "# Quick check\n",
    "df.head(5)"
   ]
  },
  {
   "cell_type": "code",
   "execution_count": 41,
   "id": "4382427d",
   "metadata": {},
   "outputs": [
    {
     "data": {
      "text/plain": [
       "array(['', '', 'organic', 'vegan', '', '', '', '', '', '', '', '', '', '',\n",
       "       '', '', '', '', '', '', 'organic', '', '', 'organic', '', '',\n",
       "       'organic', '', '', '', ''], dtype=object)"
      ]
     },
     "execution_count": 41,
     "metadata": {},
     "output_type": "execute_result"
    }
   ],
   "source": [
    "df['sustainability_tags'].values"
   ]
  },
  {
   "cell_type": "code",
   "execution_count": 54,
   "id": "4cf89b8a",
   "metadata": {},
   "outputs": [
    {
     "data": {
      "text/plain": [
       "sustainability_tags    \n",
       "dtype: object"
      ]
     },
     "execution_count": 54,
     "metadata": {},
     "output_type": "execute_result"
    }
   ],
   "source": [
    "df[df['sustainability_tags'].isna() | (df['sustainability_tags'] == '') | (df['sustainability_tags'] == '[]') | (df['sustainability_tags'].apply(lambda x: isinstance(x, list) and len(x) == 0))][['sustainability_tags']].sum()"
   ]
  },
  {
   "cell_type": "code",
   "execution_count": 39,
   "id": "bb2565cb",
   "metadata": {},
   "outputs": [
    {
     "data": {
      "text/plain": [
       "np.int64(26)"
      ]
     },
     "execution_count": 39,
     "metadata": {},
     "output_type": "execute_result"
    }
   ],
   "source": [
    "empty_tags = df['sustainability_tags'].isna() | (df['sustainability_tags'] == '') | (df['sustainability_tags'] == '[]')\n",
    "empty_tags.sum()"
   ]
  },
  {
   "cell_type": "code",
   "execution_count": 56,
   "id": "a84ee862",
   "metadata": {},
   "outputs": [
    {
     "data": {
      "text/plain": [
       "np.int64(0)"
      ]
     },
     "execution_count": 56,
     "metadata": {},
     "output_type": "execute_result"
    }
   ],
   "source": [
    "df['labels'].isnull().sum()"
   ]
  },
  {
   "cell_type": "code",
   "execution_count": 36,
   "id": "f3320906",
   "metadata": {},
   "outputs": [
    {
     "ename": "NameError",
     "evalue": "name 'col' is not defined",
     "output_type": "error",
     "traceback": [
      "\u001b[31m---------------------------------------------------------------------------\u001b[39m",
      "\u001b[31mNameError\u001b[39m                                 Traceback (most recent call last)",
      "\u001b[36mCell\u001b[39m\u001b[36m \u001b[39m\u001b[32mIn[36]\u001b[39m\u001b[32m, line 1\u001b[39m\n\u001b[32m----> \u001b[39m\u001b[32m1\u001b[39m df[\u001b[43mcol\u001b[49m]\n",
      "\u001b[31mNameError\u001b[39m: name 'col' is not defined"
     ]
    }
   ],
   "source": [
    "df[col]"
   ]
  },
  {
   "cell_type": "code",
   "execution_count": null,
   "id": "8892d636",
   "metadata": {},
   "outputs": [],
   "source": []
  }
 ],
 "metadata": {
  "kernelspec": {
   "display_name": "eco-product-demand-forecast (3.12.4)",
   "language": "python",
   "name": "python3"
  },
  "language_info": {
   "codemirror_mode": {
    "name": "ipython",
    "version": 3
   },
   "file_extension": ".py",
   "mimetype": "text/x-python",
   "name": "python",
   "nbconvert_exporter": "python",
   "pygments_lexer": "ipython3",
   "version": "3.12.4"
  }
 },
 "nbformat": 4,
 "nbformat_minor": 5
}
