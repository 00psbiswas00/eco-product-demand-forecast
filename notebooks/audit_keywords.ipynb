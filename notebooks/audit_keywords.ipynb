{
 "cells": [
  {
   "cell_type": "code",
   "execution_count": 30,
   "id": "89e73441",
   "metadata": {},
   "outputs": [
    {
     "data": {
      "text/html": [
       "<div>\n",
       "<style scoped>\n",
       "    .dataframe tbody tr th:only-of-type {\n",
       "        vertical-align: middle;\n",
       "    }\n",
       "\n",
       "    .dataframe tbody tr th {\n",
       "        vertical-align: top;\n",
       "    }\n",
       "\n",
       "    .dataframe thead th {\n",
       "        text-align: right;\n",
       "    }\n",
       "</style>\n",
       "<table border=\"1\" class=\"dataframe\">\n",
       "  <thead>\n",
       "    <tr style=\"text-align: right;\">\n",
       "      <th></th>\n",
       "      <th>product_name</th>\n",
       "      <th>brand</th>\n",
       "      <th>categories</th>\n",
       "      <th>labels</th>\n",
       "      <th>packaging</th>\n",
       "      <th>nutriscore_grade</th>\n",
       "      <th>ecoscore_grade</th>\n",
       "      <th>url</th>\n",
       "      <th>sustainability_tags</th>\n",
       "    </tr>\n",
       "  </thead>\n",
       "  <tbody>\n",
       "    <tr>\n",
       "      <th>0</th>\n",
       "      <td>Mielle Organics Rosemary Mint Scalp and Hair S...</td>\n",
       "      <td>Mielle,Mielle Organics</td>\n",
       "      <td>non food products, open beauty facts, cosmetic...</td>\n",
       "      <td>unknown</td>\n",
       "      <td>unknown</td>\n",
       "      <td>unknown</td>\n",
       "      <td>unknown</td>\n",
       "      <td>https://world.openbeautyfacts.org/product/0850...</td>\n",
       "      <td></td>\n",
       "    </tr>\n",
       "    <tr>\n",
       "      <th>1</th>\n",
       "      <td></td>\n",
       "      <td></td>\n",
       "      <td>non food products, open beauty facts, cosmetic...</td>\n",
       "      <td>organic, made in france</td>\n",
       "      <td>unknown</td>\n",
       "      <td>unknown</td>\n",
       "      <td>unknown</td>\n",
       "      <td>https://world.openbeautyfacts.org/product/3415...</td>\n",
       "      <td>organic</td>\n",
       "    </tr>\n",
       "    <tr>\n",
       "      <th>2</th>\n",
       "      <td>Douche crème surgras â l'huile de karité</td>\n",
       "      <td>Léa nature</td>\n",
       "      <td>hygiène, douches et bains, gels douche</td>\n",
       "      <td>bio, testé dermatologiquement, sans sulfates, ...</td>\n",
       "      <td>plastique, bouteille</td>\n",
       "      <td>unknown</td>\n",
       "      <td>unknown</td>\n",
       "      <td>https://world.openbeautyfacts.org/product/3517...</td>\n",
       "      <td>organic</td>\n",
       "    </tr>\n",
       "    <tr>\n",
       "      <th>3</th>\n",
       "      <td>Urtekram luomu valkaiseva hammastahna Fresh Mi...</td>\n",
       "      <td>Urtekram</td>\n",
       "      <td>non food products, open beauty facts, hammasta...</td>\n",
       "      <td>organic, vegetarian, vegan, the, vegan, society</td>\n",
       "      <td>unknown</td>\n",
       "      <td>unknown</td>\n",
       "      <td>unknown</td>\n",
       "      <td>https://world.openbeautyfacts.org/product/5765...</td>\n",
       "      <td>organic, vegan</td>\n",
       "    </tr>\n",
       "    <tr>\n",
       "      <th>4</th>\n",
       "      <td>Boro Plus Organic Aloe Vera Gel</td>\n",
       "      <td>Boro Plus</td>\n",
       "      <td>non food products, open beauty facts, cosmetic...</td>\n",
       "      <td>unknown</td>\n",
       "      <td>unknown</td>\n",
       "      <td>unknown</td>\n",
       "      <td>unknown</td>\n",
       "      <td>https://world.openbeautyfacts.org/product/8901...</td>\n",
       "      <td></td>\n",
       "    </tr>\n",
       "  </tbody>\n",
       "</table>\n",
       "</div>"
      ],
      "text/plain": [
       "                                        product_name                   brand  \\\n",
       "0  Mielle Organics Rosemary Mint Scalp and Hair S...  Mielle,Mielle Organics   \n",
       "1                                                                              \n",
       "2           Douche crème surgras â l'huile de karité              Léa nature   \n",
       "3  Urtekram luomu valkaiseva hammastahna Fresh Mi...                Urtekram   \n",
       "4                    Boro Plus Organic Aloe Vera Gel               Boro Plus   \n",
       "\n",
       "                                          categories  \\\n",
       "0  non food products, open beauty facts, cosmetic...   \n",
       "1  non food products, open beauty facts, cosmetic...   \n",
       "2             hygiène, douches et bains, gels douche   \n",
       "3  non food products, open beauty facts, hammasta...   \n",
       "4  non food products, open beauty facts, cosmetic...   \n",
       "\n",
       "                                              labels             packaging  \\\n",
       "0                                            unknown               unknown   \n",
       "1                            organic, made in france               unknown   \n",
       "2  bio, testé dermatologiquement, sans sulfates, ...  plastique, bouteille   \n",
       "3    organic, vegetarian, vegan, the, vegan, society               unknown   \n",
       "4                                            unknown               unknown   \n",
       "\n",
       "  nutriscore_grade ecoscore_grade  \\\n",
       "0          unknown        unknown   \n",
       "1          unknown        unknown   \n",
       "2          unknown        unknown   \n",
       "3          unknown        unknown   \n",
       "4          unknown        unknown   \n",
       "\n",
       "                                                 url sustainability_tags  \n",
       "0  https://world.openbeautyfacts.org/product/0850...                      \n",
       "1  https://world.openbeautyfacts.org/product/3415...             organic  \n",
       "2  https://world.openbeautyfacts.org/product/3517...             organic  \n",
       "3  https://world.openbeautyfacts.org/product/5765...      organic, vegan  \n",
       "4  https://world.openbeautyfacts.org/product/8901...                      "
      ]
     },
     "execution_count": 30,
     "metadata": {},
     "output_type": "execute_result"
    }
   ],
   "source": [
    "import sqlite3\n",
    "import pandas as pd\n",
    "\n",
    "\n",
    "\n",
    "# Add the project root directory to sys.path\n",
    "\n",
    "# or\n",
    "# Connect to SQLite\n",
    "con = sqlite3.connect('../data/processed/eco_products.db')\n",
    "\n",
    "# Load processed beauty table\n",
    "df = pd.read_sql(f\"SELECT * FROM openbeautyfacts_processed\", con)\n",
    "con.close()\n",
    "# Quick check\n",
    "df.head(5)"
   ]
  },
  {
   "cell_type": "code",
   "execution_count": 31,
   "id": "4382427d",
   "metadata": {},
   "outputs": [
    {
     "data": {
      "text/plain": [
       "array(['', 'organic', 'organic', 'organic, vegan', '', 'organic', 'vegan',\n",
       "       '', 'organic', 'organic', 'organic', 'organic',\n",
       "       'organic, fairtrade', 'organic', 'organic', 'organic',\n",
       "       'organic, fairtrade', 'vegan', '', '', 'organic', 'organic',\n",
       "       'organic, fairtrade', 'organic', 'organic', 'organic', 'organic',\n",
       "       'organic', 'organic', 'organic', 'organic'], dtype=object)"
      ]
     },
     "execution_count": 31,
     "metadata": {},
     "output_type": "execute_result"
    }
   ],
   "source": [
    "df['sustainability_tags'].values"
   ]
  },
  {
   "cell_type": "code",
   "execution_count": 32,
   "id": "ad2be03b",
   "metadata": {},
   "outputs": [
    {
     "data": {
      "text/plain": [
       "(31,)"
      ]
     },
     "execution_count": 32,
     "metadata": {},
     "output_type": "execute_result"
    }
   ],
   "source": [
    "df['sustainability_tags'].shape"
   ]
  },
  {
   "cell_type": "code",
   "execution_count": 33,
   "id": "22c6fc8b",
   "metadata": {},
   "outputs": [],
   "source": [
    "    # Drop rows where sustainability_tags is empty\n",
    "df = df[df['sustainability_tags'].apply(lambda tags: len(tags) > 0)]"
   ]
  },
  {
   "cell_type": "code",
   "execution_count": 34,
   "id": "a5fd384c",
   "metadata": {},
   "outputs": [
    {
     "data": {
      "text/plain": [
       "array(['organic', 'organic', 'organic, vegan', 'organic', 'vegan',\n",
       "       'organic', 'organic', 'organic', 'organic', 'organic, fairtrade',\n",
       "       'organic', 'organic', 'organic', 'organic, fairtrade', 'vegan',\n",
       "       'organic', 'organic', 'organic, fairtrade', 'organic', 'organic',\n",
       "       'organic', 'organic', 'organic', 'organic', 'organic', 'organic'],\n",
       "      dtype=object)"
      ]
     },
     "execution_count": 34,
     "metadata": {},
     "output_type": "execute_result"
    }
   ],
   "source": [
    "df['sustainability_tags'].values\n"
   ]
  },
  {
   "cell_type": "code",
   "execution_count": 35,
   "id": "358dc669",
   "metadata": {},
   "outputs": [
    {
     "data": {
      "text/plain": [
       "(26,)"
      ]
     },
     "execution_count": 35,
     "metadata": {},
     "output_type": "execute_result"
    }
   ],
   "source": [
    "df['sustainability_tags'].shape"
   ]
  },
  {
   "cell_type": "code",
   "execution_count": 36,
   "id": "4cf89b8a",
   "metadata": {},
   "outputs": [
    {
     "data": {
      "text/plain": [
       "sustainability_tags    0\n",
       "dtype: object"
      ]
     },
     "execution_count": 36,
     "metadata": {},
     "output_type": "execute_result"
    }
   ],
   "source": [
    "df[df['sustainability_tags'].isna() | (df['sustainability_tags'] == '') | (df['sustainability_tags'] == '[]') | (df['sustainability_tags'].apply(lambda x: isinstance(x, list) and len(x) == 0))][['sustainability_tags']].sum()"
   ]
  },
  {
   "cell_type": "code",
   "execution_count": 37,
   "id": "bb2565cb",
   "metadata": {},
   "outputs": [
    {
     "data": {
      "text/plain": [
       "np.int64(0)"
      ]
     },
     "execution_count": 37,
     "metadata": {},
     "output_type": "execute_result"
    }
   ],
   "source": [
    "empty_tags = df['sustainability_tags'].isna() | (df['sustainability_tags'] == '') | (df['sustainability_tags'] == '[]')\n",
    "empty_tags.sum()"
   ]
  },
  {
   "cell_type": "code",
   "execution_count": 38,
   "id": "a84ee862",
   "metadata": {},
   "outputs": [
    {
     "data": {
      "text/plain": [
       "np.int64(0)"
      ]
     },
     "execution_count": 38,
     "metadata": {},
     "output_type": "execute_result"
    }
   ],
   "source": [
    "df['labels'].isnull().sum()"
   ]
  },
  {
   "cell_type": "code",
   "execution_count": 39,
   "id": "f3320906",
   "metadata": {},
   "outputs": [
    {
     "data": {
      "text/html": [
       "<div>\n",
       "<style scoped>\n",
       "    .dataframe tbody tr th:only-of-type {\n",
       "        vertical-align: middle;\n",
       "    }\n",
       "\n",
       "    .dataframe tbody tr th {\n",
       "        vertical-align: top;\n",
       "    }\n",
       "\n",
       "    .dataframe thead th {\n",
       "        text-align: right;\n",
       "    }\n",
       "</style>\n",
       "<table border=\"1\" class=\"dataframe\">\n",
       "  <thead>\n",
       "    <tr style=\"text-align: right;\">\n",
       "      <th></th>\n",
       "      <th>categories</th>\n",
       "      <th>labels</th>\n",
       "      <th>packaging</th>\n",
       "    </tr>\n",
       "  </thead>\n",
       "  <tbody>\n",
       "    <tr>\n",
       "      <th>1</th>\n",
       "      <td>non food products, open beauty facts, cosmetic...</td>\n",
       "      <td>organic, made in france</td>\n",
       "      <td>unknown</td>\n",
       "    </tr>\n",
       "    <tr>\n",
       "      <th>2</th>\n",
       "      <td>hygiène, douches et bains, gels douche</td>\n",
       "      <td>bio, testé dermatologiquement, sans sulfates, ...</td>\n",
       "      <td>plastique, bouteille</td>\n",
       "    </tr>\n",
       "    <tr>\n",
       "      <th>3</th>\n",
       "      <td>non food products, open beauty facts, hammasta...</td>\n",
       "      <td>organic, vegetarian, vegan, the, vegan, society</td>\n",
       "      <td>unknown</td>\n",
       "    </tr>\n",
       "    <tr>\n",
       "      <th>5</th>\n",
       "      <td>crème hydratante</td>\n",
       "      <td>bio, organic cosmetic</td>\n",
       "      <td>plastique</td>\n",
       "    </tr>\n",
       "    <tr>\n",
       "      <th>6</th>\n",
       "      <td>non food products, open beauty facts, cosmetic...</td>\n",
       "      <td>vegetariano, vegano, fabricado en italia</td>\n",
       "      <td>card, sleeve</td>\n",
       "    </tr>\n",
       "  </tbody>\n",
       "</table>\n",
       "</div>"
      ],
      "text/plain": [
       "                                          categories  \\\n",
       "1  non food products, open beauty facts, cosmetic...   \n",
       "2             hygiène, douches et bains, gels douche   \n",
       "3  non food products, open beauty facts, hammasta...   \n",
       "5                                   crème hydratante   \n",
       "6  non food products, open beauty facts, cosmetic...   \n",
       "\n",
       "                                              labels             packaging  \n",
       "1                            organic, made in france               unknown  \n",
       "2  bio, testé dermatologiquement, sans sulfates, ...  plastique, bouteille  \n",
       "3    organic, vegetarian, vegan, the, vegan, society               unknown  \n",
       "5                              bio, organic cosmetic             plastique  \n",
       "6           vegetariano, vegano, fabricado en italia          card, sleeve  "
      ]
     },
     "execution_count": 39,
     "metadata": {},
     "output_type": "execute_result"
    }
   ],
   "source": [
    "df[['categories', 'labels', 'packaging']].head(5)"
   ]
  },
  {
   "cell_type": "code",
   "execution_count": 41,
   "id": "8892d636",
   "metadata": {},
   "outputs": [
    {
     "data": {
      "text/html": [
       "<div>\n",
       "<style scoped>\n",
       "    .dataframe tbody tr th:only-of-type {\n",
       "        vertical-align: middle;\n",
       "    }\n",
       "\n",
       "    .dataframe tbody tr th {\n",
       "        vertical-align: top;\n",
       "    }\n",
       "\n",
       "    .dataframe thead th {\n",
       "        text-align: right;\n",
       "    }\n",
       "</style>\n",
       "<table border=\"1\" class=\"dataframe\">\n",
       "  <thead>\n",
       "    <tr style=\"text-align: right;\">\n",
       "      <th></th>\n",
       "      <th>product_name</th>\n",
       "      <th>brand</th>\n",
       "      <th>categories</th>\n",
       "      <th>labels</th>\n",
       "      <th>packaging</th>\n",
       "      <th>nutriscore_grade</th>\n",
       "      <th>ecoscore_grade</th>\n",
       "      <th>url</th>\n",
       "      <th>sustainability_tags</th>\n",
       "    </tr>\n",
       "  </thead>\n",
       "  <tbody>\n",
       "    <tr>\n",
       "      <th>1</th>\n",
       "      <td></td>\n",
       "      <td></td>\n",
       "      <td>non food products, open beauty facts, cosmetic...</td>\n",
       "      <td>organic, made in france</td>\n",
       "      <td>unknown</td>\n",
       "      <td>unknown</td>\n",
       "      <td>unknown</td>\n",
       "      <td>https://world.openbeautyfacts.org/product/3415...</td>\n",
       "      <td>organic</td>\n",
       "    </tr>\n",
       "    <tr>\n",
       "      <th>2</th>\n",
       "      <td>Douche crème surgras â l'huile de karité</td>\n",
       "      <td>Léa nature</td>\n",
       "      <td>hygiène, douches et bains, gels douche</td>\n",
       "      <td>bio, testé dermatologiquement, sans sulfates, ...</td>\n",
       "      <td>plastique, bouteille</td>\n",
       "      <td>unknown</td>\n",
       "      <td>unknown</td>\n",
       "      <td>https://world.openbeautyfacts.org/product/3517...</td>\n",
       "      <td>organic</td>\n",
       "    </tr>\n",
       "  </tbody>\n",
       "</table>\n",
       "</div>"
      ],
      "text/plain": [
       "                               product_name       brand  \\\n",
       "1                                                         \n",
       "2  Douche crème surgras â l'huile de karité  Léa nature   \n",
       "\n",
       "                                          categories  \\\n",
       "1  non food products, open beauty facts, cosmetic...   \n",
       "2             hygiène, douches et bains, gels douche   \n",
       "\n",
       "                                              labels             packaging  \\\n",
       "1                            organic, made in france               unknown   \n",
       "2  bio, testé dermatologiquement, sans sulfates, ...  plastique, bouteille   \n",
       "\n",
       "  nutriscore_grade ecoscore_grade  \\\n",
       "1          unknown        unknown   \n",
       "2          unknown        unknown   \n",
       "\n",
       "                                                 url sustainability_tags  \n",
       "1  https://world.openbeautyfacts.org/product/3415...             organic  \n",
       "2  https://world.openbeautyfacts.org/product/3517...             organic  "
      ]
     },
     "execution_count": 41,
     "metadata": {},
     "output_type": "execute_result"
    }
   ],
   "source": [
    "df.head(2)"
   ]
  },
  {
   "cell_type": "code",
   "execution_count": null,
   "id": "c0358f12",
   "metadata": {},
   "outputs": [],
   "source": []
  }
 ],
 "metadata": {
  "kernelspec": {
   "display_name": "eco-product-demand-forecast (3.12.4)",
   "language": "python",
   "name": "python3"
  },
  "language_info": {
   "codemirror_mode": {
    "name": "ipython",
    "version": 3
   },
   "file_extension": ".py",
   "mimetype": "text/x-python",
   "name": "python",
   "nbconvert_exporter": "python",
   "pygments_lexer": "ipython3",
   "version": "3.12.4"
  }
 },
 "nbformat": 4,
 "nbformat_minor": 5
}
